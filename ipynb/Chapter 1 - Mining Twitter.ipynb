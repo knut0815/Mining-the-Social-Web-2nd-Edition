{
 "cells": [
  {
   "cell_type": "markdown",
   "metadata": {
    "deletable": true,
    "editable": true
   },
   "source": [
    "# Mining the Social Web, 2nd Edition\n",
    "\n",
    "## Chapter 1: Mining Twitter: Exploring Trending Topics, Discovering What People Are Talking About, and More\n",
    "\n",
    "This Jupyter Notebook provides an interactive way to follow along with and explore the numbered examples from [_Mining the Social Web (3rd Edition)_](http://bit.ly/135dHfs) (**NB: To be updated to 3rd Edition Link**). The intent behind this notebook is to reinforce the concepts from the sample code in a fun, convenient, and effective way. This notebook assumes that you are reading along with the book and have the context of the discussion as you work through these exercises.\n",
    "\n",
    "In the somewhat unlikely event that you've somehow stumbled across this notebook outside of its context on GitHub, [you can find the full source code repository here](http://bit.ly/MiningTheSocialWeb3E).\n",
    "\n",
    "## Copyright and Licensing\n",
    "\n",
    "You are free to use or adapt this notebook for any purpose you'd like. However, please respect the [Simplified BSD License](https://raw.githubusercontent.com/mikhailklassen/Mining-the-Social-Web-2nd-Edition/master/LICENSE.txt) that governs its use."
   ]
  },
  {
   "cell_type": "markdown",
   "metadata": {
    "deletable": true,
    "editable": true
   },
   "source": [
    "# Twitter API Access\n",
    "\n",
    "Twitter implements OAuth 1.0A as its standard authentication mechanism, and in order to use it to make requests to Twitter's API, you'll need to go to https://dev.twitter.com/apps and create a sample application. There are four primary identifiers you'll need to note for an OAuth 1.0A workflow: consumer key, consumer secret, access token, and access token secret. Note that you will need an ordinary Twitter account in order to login, create an app, and get these credentials.\n",
    "\n",
    "<img src=\"files/resources/ch01-twitter/images/Twitter-AppCredentials.png\" width=\"600px\">"
   ]
  },
  {
   "cell_type": "markdown",
   "metadata": {
    "deletable": true,
    "editable": true
   },
   "source": [
    "If you are taking advantage of the virtual machine experience for this chapter that is powered by Vagrant, you should just be able to execute the code in this notebook without any worries whatsoever about installing dependencies. If you are running the code from your own development envioronment, however, be advised that these examples in this chapter take advantage of a Python package called [twitter](https://github.com/sixohsix/twitter) to make API calls. You can install this package in a terminal with [pip](https://pypi.python.org/pypi/pip) with the command `pip install twitter`, preferably from within a [Python virtual environment](https://pypi.python.org/pypi/virtualenv). "
   ]
  },
  {
   "cell_type": "markdown",
   "metadata": {
    "deletable": true,
    "editable": true
   },
   "source": [
    "Once installed, you should be able to open up a Python interpreter (or better yet, your [IPython](http://ipython.org/) interpreter) and get rolling."
   ]
  },
  {
   "cell_type": "markdown",
   "metadata": {
    "deletable": true,
    "editable": true
   },
   "source": [
    "## Example 1. Authorizing an application to access Twitter account data"
   ]
  },
  {
   "cell_type": "code",
   "execution_count": 5,
   "metadata": {
    "collapsed": false,
    "deletable": true,
    "editable": true
   },
   "outputs": [
    {
     "name": "stdout",
     "output_type": "stream",
     "text": [
      "<twitter.api.Twitter object at 0x108c9a588>\n"
     ]
    }
   ],
   "source": [
    "import twitter\n",
    "\n",
    "# XXX: Go to http://dev.twitter.com/apps/new to create an app and get values\n",
    "# for these credentials, which you'll need to provide in place of these\n",
    "# empty string values that are defined as placeholders.\n",
    "# See https://dev.twitter.com/docs/auth/oauth for more information \n",
    "# on Twitter's OAuth implementation.\n",
    "\n",
    "CONSUMER_KEY = ''\n",
    "CONSUMER_SECRET =''\n",
    "OAUTH_TOKEN = ''\n",
    "OAUTH_TOKEN_SECRET = ''\n",
    "\n",
    "auth = twitter.oauth.OAuth(OAUTH_TOKEN, OAUTH_TOKEN_SECRET,\n",
    "                           CONSUMER_KEY, CONSUMER_SECRET)\n",
    "\n",
    "twitter_api = twitter.Twitter(auth=auth)\n",
    "\n",
    "# Nothing to see by displaying twitter_api except that it's now a\n",
    "# defined variable\n",
    "\n",
    "print(twitter_api)"
   ]
  },
  {
   "cell_type": "markdown",
   "metadata": {
    "deletable": true,
    "editable": true
   },
   "source": [
    "## Example 2. Retrieving trends"
   ]
  },
  {
   "cell_type": "code",
   "execution_count": 6,
   "metadata": {
    "collapsed": false,
    "deletable": true,
    "editable": true
   },
   "outputs": [
    {
     "name": "stdout",
     "output_type": "stream",
     "text": [
      "[{'trends': [{'name': '#الهلال_الوحده', 'url': 'http://twitter.com/search?q=%23%D8%A7%D9%84%D9%87%D9%84%D8%A7%D9%84_%D8%A7%D9%84%D9%88%D8%AD%D8%AF%D9%87', 'promoted_content': None, 'query': '%23%D8%A7%D9%84%D9%87%D9%84%D8%A7%D9%84_%D8%A7%D9%84%D9%88%D8%AD%D8%AF%D9%87', 'tweet_volume': 152212}, {'name': '#JoshuaKlitchsko', 'url': 'http://twitter.com/search?q=%23JoshuaKlitchsko', 'promoted_content': None, 'query': '%23JoshuaKlitchsko', 'tweet_volume': 27956}, {'name': 'Espanyol', 'url': 'http://twitter.com/search?q=Espanyol', 'promoted_content': None, 'query': 'Espanyol', 'tweet_volume': 58514}, {'name': '#LuanNoCaldeirao', 'url': 'http://twitter.com/search?q=%23LuanNoCaldeirao', 'promoted_content': None, 'query': '%23LuanNoCaldeirao', 'tweet_volume': 28723}, {'name': '#climatemarch', 'url': 'http://twitter.com/search?q=%23climatemarch', 'promoted_content': None, 'query': '%23climatemarch', 'tweet_volume': 192988}, {'name': '#الاتحاد_الفيصلي', 'url': 'http://twitter.com/search?q=%23%D8%A7%D9%84%D8%A7%D8%AA%D8%AD%D8%A7%D8%AF_%D8%A7%D9%84%D9%81%D9%8A%D8%B5%D9%84%D9%8A', 'promoted_content': None, 'query': '%23%D8%A7%D9%84%D8%A7%D8%AA%D8%AD%D8%A7%D8%AF_%D8%A7%D9%84%D9%81%D9%8A%D8%B5%D9%84%D9%8A', 'tweet_volume': 86529}, {'name': 'Yeni KHK', 'url': 'http://twitter.com/search?q=%22Yeni+KHK%22', 'promoted_content': None, 'query': '%22Yeni+KHK%22', 'tweet_volume': 41685}, {'name': 'Xavier Woods', 'url': 'http://twitter.com/search?q=%22Xavier+Woods%22', 'promoted_content': None, 'query': '%22Xavier+Woods%22', 'tweet_volume': None}, {'name': 'Bundesliga', 'url': 'http://twitter.com/search?q=Bundesliga', 'promoted_content': None, 'query': 'Bundesliga', 'tweet_volume': 53456}, {'name': 'Mike Tyson', 'url': 'http://twitter.com/search?q=%22Mike+Tyson%22', 'promoted_content': None, 'query': '%22Mike+Tyson%22', 'tweet_volume': None}, {'name': 'Evlilik Programları', 'url': 'http://twitter.com/search?q=%22Evlilik+Programlar%C4%B1%22', 'promoted_content': None, 'query': '%22Evlilik+Programlar%C4%B1%22', 'tweet_volume': 55245}, {'name': 'Caleb Brantley', 'url': 'http://twitter.com/search?q=%22Caleb+Brantley%22', 'promoted_content': None, 'query': '%22Caleb+Brantley%22', 'tweet_volume': None}, {'name': 'Mercier', 'url': 'http://twitter.com/search?q=Mercier', 'promoted_content': None, 'query': 'Mercier', 'tweet_volume': None}, {'name': 'Aaron Judge', 'url': 'http://twitter.com/search?q=%22Aaron+Judge%22', 'promoted_content': None, 'query': '%22Aaron+Judge%22', 'tweet_volume': 10902}, {'name': 'محمد الشلهوب', 'url': 'http://twitter.com/search?q=%22%D9%85%D8%AD%D9%85%D8%AF+%D8%A7%D9%84%D8%B4%D9%84%D9%87%D9%88%D8%A8%22', 'promoted_content': None, 'query': '%22%D9%85%D8%AD%D9%85%D8%AF+%D8%A7%D9%84%D8%B4%D9%84%D9%87%D9%88%D8%A8%22', 'tweet_volume': 16026}, {'name': 'Huracán', 'url': 'http://twitter.com/search?q=Hurac%C3%A1n', 'promoted_content': None, 'query': 'Hurac%C3%A1n', 'tweet_volume': None}, {'name': 'Quigg', 'url': 'http://twitter.com/search?q=Quigg', 'promoted_content': None, 'query': 'Quigg', 'tweet_volume': None}, {'name': 'Corujo', 'url': 'http://twitter.com/search?q=Corujo', 'promoted_content': None, 'query': 'Corujo', 'tweet_volume': None}, {'name': '#برشلونه_اسبانيول', 'url': 'http://twitter.com/search?q=%23%D8%A8%D8%B1%D8%B4%D9%84%D9%88%D9%86%D9%87_%D8%A7%D8%B3%D8%A8%D8%A7%D9%86%D9%8A%D9%88%D9%84', 'promoted_content': None, 'query': '%23%D8%A8%D8%B1%D8%B4%D9%84%D9%88%D9%86%D9%87_%D8%A7%D8%B3%D8%A8%D8%A7%D9%86%D9%8A%D9%88%D9%84', 'tweet_volume': 24394}, {'name': '#YoApoyoLaMoción', 'url': 'http://twitter.com/search?q=%23YoApoyoLaMoci%C3%B3n', 'promoted_content': None, 'query': '%23YoApoyoLaMoci%C3%B3n', 'tweet_volume': 16596}, {'name': '#طلاب_جامعه_خالد_يرفضون_التعليق', 'url': 'http://twitter.com/search?q=%23%D8%B7%D9%84%D8%A7%D8%A8_%D8%AC%D8%A7%D9%85%D8%B9%D9%87_%D8%AE%D8%A7%D9%84%D8%AF_%D9%8A%D8%B1%D9%81%D8%B6%D9%88%D9%86_%D8%A7%D9%84%D8%AA%D8%B9%D9%84%D9%8A%D9%82', 'promoted_content': None, 'query': '%23%D8%B7%D9%84%D8%A7%D8%A8_%D8%AC%D8%A7%D9%85%D8%B9%D9%87_%D8%AE%D8%A7%D9%84%D8%AF_%D9%8A%D8%B1%D9%81%D8%B6%D9%88%D9%86_%D8%A7%D9%84%D8%AA%D8%B9%D9%84%D9%8A%D9%82', 'tweet_volume': None}, {'name': '#L6Nigonzalezo', 'url': 'http://twitter.com/search?q=%23L6Nigonzalezo', 'promoted_content': None, 'query': '%23L6Nigonzalezo', 'tweet_volume': None}, {'name': '#JarreinLiebana', 'url': 'http://twitter.com/search?q=%23JarreinLiebana', 'promoted_content': None, 'query': '%23JarreinLiebana', 'tweet_volume': None}, {'name': '#GLvMI', 'url': 'http://twitter.com/search?q=%23GLvMI', 'promoted_content': None, 'query': '%23GLvMI', 'tweet_volume': 39113}, {'name': '#Ulisse', 'url': 'http://twitter.com/search?q=%23Ulisse', 'promoted_content': None, 'query': '%23Ulisse', 'tweet_volume': None}, {'name': '#اشهر_جمل_في_السينما_المصريه', 'url': 'http://twitter.com/search?q=%23%D8%A7%D8%B4%D9%87%D8%B1_%D8%AC%D9%85%D9%84_%D9%81%D9%8A_%D8%A7%D9%84%D8%B3%D9%8A%D9%86%D9%85%D8%A7_%D8%A7%D9%84%D9%85%D8%B5%D8%B1%D9%8A%D9%87', 'promoted_content': None, 'query': '%23%D8%A7%D8%B4%D9%87%D8%B1_%D8%AC%D9%85%D9%84_%D9%81%D9%8A_%D8%A7%D9%84%D8%B3%D9%8A%D9%86%D9%85%D8%A7_%D8%A7%D9%84%D9%85%D8%B5%D8%B1%D9%8A%D9%87', 'tweet_volume': None}, {'name': '#BallandoConLeStelle', 'url': 'http://twitter.com/search?q=%23BallandoConLeStelle', 'promoted_content': None, 'query': '%23BallandoConLeStelle', 'tweet_volume': 41694}, {'name': '#Casualty', 'url': 'http://twitter.com/search?q=%23Casualty', 'promoted_content': None, 'query': '%23Casualty', 'tweet_volume': None}, {'name': '#حياتك78', 'url': 'http://twitter.com/search?q=%23%D8%AD%D9%8A%D8%A7%D8%AA%D9%8378', 'promoted_content': None, 'query': '%23%D8%AD%D9%8A%D8%A7%D8%AA%D9%8378', 'tweet_volume': 89131}, {'name': '#independentbookstoreday', 'url': 'http://twitter.com/search?q=%23independentbookstoreday', 'promoted_content': None, 'query': '%23independentbookstoreday', 'tweet_volume': None}, {'name': '#NotTheWHCD', 'url': 'http://twitter.com/search?q=%23NotTheWHCD', 'promoted_content': None, 'query': '%23NotTheWHCD', 'tweet_volume': None}, {'name': '#BritainsGotTalent', 'url': 'http://twitter.com/search?q=%23BritainsGotTalent', 'promoted_content': None, 'query': '%23BritainsGotTalent', 'tweet_volume': None}, {'name': '#RDMA', 'url': 'http://twitter.com/search?q=%23RDMA', 'promoted_content': None, 'query': '%23RDMA', 'tweet_volume': 32413}, {'name': '#DiadelAnimal', 'url': 'http://twitter.com/search?q=%23DiadelAnimal', 'promoted_content': None, 'query': '%23DiadelAnimal', 'tweet_volume': 27044}, {'name': '#NellUltimaPuntataDiTwitter', 'url': 'http://twitter.com/search?q=%23NellUltimaPuntataDiTwitter', 'promoted_content': None, 'query': '%23NellUltimaPuntataDiTwitter', 'tweet_volume': None}, {'name': '#rtlboxen', 'url': 'http://twitter.com/search?q=%23rtlboxen', 'promoted_content': None, 'query': '%23rtlboxen', 'tweet_volume': None}, {'name': '#تحدي_جرير_اس8', 'url': 'http://twitter.com/search?q=%23%D8%AA%D8%AD%D8%AF%D9%8A_%D8%AC%D8%B1%D9%8A%D8%B1_%D8%A7%D8%B38', 'promoted_content': None, 'query': '%23%D8%AA%D8%AD%D8%AF%D9%8A_%D8%AC%D8%B1%D9%8A%D8%B1_%D8%A7%D8%B38', 'tweet_volume': 35126}, {'name': '#SevemezKimseSeni', 'url': 'http://twitter.com/search?q=%23SevemezKimseSeni', 'promoted_content': None, 'query': '%23SevemezKimseSeni', 'tweet_volume': 16196}, {'name': '#StarAcademygr', 'url': 'http://twitter.com/search?q=%23StarAcademygr', 'promoted_content': None, 'query': '%23StarAcademygr', 'tweet_volume': None}, {'name': '#RegretInYourTearsVIDEO', 'url': 'http://twitter.com/search?q=%23RegretInYourTearsVIDEO', 'promoted_content': None, 'query': '%23RegretInYourTearsVIDEO', 'tweet_volume': None}, {'name': '#التعاون_الباطن', 'url': 'http://twitter.com/search?q=%23%D8%A7%D9%84%D8%AA%D8%B9%D8%A7%D9%88%D9%86_%D8%A7%D9%84%D8%A8%D8%A7%D8%B7%D9%86', 'promoted_content': None, 'query': '%23%D8%A7%D9%84%D8%AA%D8%B9%D8%A7%D9%88%D9%86_%D8%A7%D9%84%D8%A8%D8%A7%D8%B7%D9%86', 'tweet_volume': None}, {'name': '#DoñaPelosParaPresidentaY', 'url': 'http://twitter.com/search?q=%23Do%C3%B1aPelosParaPresidentaY', 'promoted_content': None, 'query': '%23Do%C3%B1aPelosParaPresidentaY', 'tweet_volume': 34277}, {'name': '#OLMCW', 'url': 'http://twitter.com/search?q=%23OLMCW', 'promoted_content': None, 'query': '%23OLMCW', 'tweet_volume': None}, {'name': '#مطبق_الفوده', 'url': 'http://twitter.com/search?q=%23%D9%85%D8%B7%D8%A8%D9%82_%D8%A7%D9%84%D9%81%D9%88%D8%AF%D9%87', 'promoted_content': None, 'query': '%23%D9%85%D8%B7%D8%A8%D9%82_%D8%A7%D9%84%D9%81%D9%88%D8%AF%D9%87', 'tweet_volume': None}, {'name': '#SiTodoFueraPuroAmor', 'url': 'http://twitter.com/search?q=%23SiTodoFueraPuroAmor', 'promoted_content': None, 'query': '%23SiTodoFueraPuroAmor', 'tweet_volume': None}, {'name': '#MTLvVAN', 'url': 'http://twitter.com/search?q=%23MTLvVAN', 'promoted_content': None, 'query': '%23MTLvVAN', 'tweet_volume': None}, {'name': '#TakeMeOut', 'url': 'http://twitter.com/search?q=%23TakeMeOut', 'promoted_content': None, 'query': '%23TakeMeOut', 'tweet_volume': None}, {'name': '#TorinoSamp', 'url': 'http://twitter.com/search?q=%23TorinoSamp', 'promoted_content': None, 'query': '%23TorinoSamp', 'tweet_volume': None}, {'name': '#AyunoPorVenezuela', 'url': 'http://twitter.com/search?q=%23AyunoPorVenezuela', 'promoted_content': None, 'query': '%23AyunoPorVenezuela', 'tweet_volume': 23813}, {'name': '#ريال_مدريد_فالنسيا', 'url': 'http://twitter.com/search?q=%23%D8%B1%D9%8A%D8%A7%D9%84_%D9%85%D8%AF%D8%B1%D9%8A%D8%AF_%D9%81%D8%A7%D9%84%D9%86%D8%B3%D9%8A%D8%A7', 'promoted_content': None, 'query': '%23%D8%B1%D9%8A%D8%A7%D9%84_%D9%85%D8%AF%D8%B1%D9%8A%D8%AF_%D9%81%D8%A7%D9%84%D9%86%D8%B3%D9%8A%D8%A7', 'tweet_volume': 79320}], 'as_of': '2017-04-29T20:56:30Z', 'created_at': '2017-04-29T20:50:29Z', 'locations': [{'name': 'Worldwide', 'woeid': 1}]}]\n",
      "\n",
      "[{'trends': [{'name': '#climatemarch', 'url': 'http://twitter.com/search?q=%23climatemarch', 'promoted_content': None, 'query': '%23climatemarch', 'tweet_volume': 192988}, {'name': '#NotTheWHCD', 'url': 'http://twitter.com/search?q=%23NotTheWHCD', 'promoted_content': None, 'query': '%23NotTheWHCD', 'tweet_volume': None}, {'name': '#independentbookstoreday', 'url': 'http://twitter.com/search?q=%23independentbookstoreday', 'promoted_content': None, 'query': '%23independentbookstoreday', 'tweet_volume': None}, {'name': '#JoshuaKlitchsko', 'url': 'http://twitter.com/search?q=%23JoshuaKlitchsko', 'promoted_content': None, 'query': '%23JoshuaKlitchsko', 'tweet_volume': 27956}, {'name': 'Xavier Woods', 'url': 'http://twitter.com/search?q=%22Xavier+Woods%22', 'promoted_content': None, 'query': '%22Xavier+Woods%22', 'tweet_volume': None}, {'name': 'Mike Tyson', 'url': 'http://twitter.com/search?q=%22Mike+Tyson%22', 'promoted_content': None, 'query': '%22Mike+Tyson%22', 'tweet_volume': None}, {'name': 'Caleb Brantley', 'url': 'http://twitter.com/search?q=%22Caleb+Brantley%22', 'promoted_content': None, 'query': '%22Caleb+Brantley%22', 'tweet_volume': None}, {'name': '#NYRvsOTT', 'url': 'http://twitter.com/search?q=%23NYRvsOTT', 'promoted_content': None, 'query': '%23NYRvsOTT', 'tweet_volume': None}, {'name': 'Chase Roullier', 'url': 'http://twitter.com/search?q=%22Chase+Roullier%22', 'promoted_content': None, 'query': '%22Chase+Roullier%22', 'tweet_volume': None}, {'name': 'Bucky Hodges', 'url': 'http://twitter.com/search?q=%22Bucky+Hodges%22', 'promoted_content': None, 'query': '%22Bucky+Hodges%22', 'tweet_volume': None}, {'name': 'Michael Conforto', 'url': 'http://twitter.com/search?q=%22Michael+Conforto%22', 'promoted_content': None, 'query': '%22Michael+Conforto%22', 'tweet_volume': None}, {'name': 'Trent Taylor', 'url': 'http://twitter.com/search?q=%22Trent+Taylor%22', 'promoted_content': None, 'query': '%22Trent+Taylor%22', 'tweet_volume': None}, {'name': 'Aaron Jones', 'url': 'http://twitter.com/search?q=%22Aaron+Jones%22', 'promoted_content': None, 'query': '%22Aaron+Jones%22', 'tweet_volume': None}, {'name': 'Chuck Clark', 'url': 'http://twitter.com/search?q=%22Chuck+Clark%22', 'promoted_content': None, 'query': '%22Chuck+Clark%22', 'tweet_volume': None}, {'name': 'Isaiah McKenzie', 'url': 'http://twitter.com/search?q=%22Isaiah+McKenzie%22', 'promoted_content': None, 'query': '%22Isaiah+McKenzie%22', 'tweet_volume': None}, {'name': 'Nathan Gerry', 'url': 'http://twitter.com/search?q=%22Nathan+Gerry%22', 'promoted_content': None, 'query': '%22Nathan+Gerry%22', 'tweet_volume': None}, {'name': 'Brad Kaaya', 'url': 'http://twitter.com/search?q=%22Brad+Kaaya%22', 'promoted_content': None, 'query': '%22Brad+Kaaya%22', 'tweet_volume': None}, {'name': 'Craig Anderson', 'url': 'http://twitter.com/search?q=%22Craig+Anderson%22', 'promoted_content': None, 'query': '%22Craig+Anderson%22', 'tweet_volume': None}, {'name': 'Kreider', 'url': 'http://twitter.com/search?q=Kreider', 'promoted_content': None, 'query': 'Kreider', 'tweet_volume': None}, {'name': 'Alex Armah', 'url': 'http://twitter.com/search?q=%22Alex+Armah%22', 'promoted_content': None, 'query': '%22Alex+Armah%22', 'tweet_volume': None}, {'name': 'Héctor Pesquera', 'url': 'http://twitter.com/search?q=%22H%C3%A9ctor+Pesquera%22', 'promoted_content': None, 'query': '%22H%C3%A9ctor+Pesquera%22', 'tweet_volume': None}, {'name': 'Caleb Joseph', 'url': 'http://twitter.com/search?q=%22Caleb+Joseph%22', 'promoted_content': None, 'query': '%22Caleb+Joseph%22', 'tweet_volume': None}, {'name': 'Rodney Adams', 'url': 'http://twitter.com/search?q=%22Rodney+Adams%22', 'promoted_content': None, 'query': '%22Rodney+Adams%22', 'tweet_volume': None}, {'name': 'Avery Moss', 'url': 'http://twitter.com/search?q=%22Avery+Moss%22', 'promoted_content': None, 'query': '%22Avery+Moss%22', 'tweet_volume': None}, {'name': 'Espanyol', 'url': 'http://twitter.com/search?q=Espanyol', 'promoted_content': None, 'query': 'Espanyol', 'tweet_volume': 58514}, {'name': 'Al-Quadin Muhammad', 'url': 'http://twitter.com/search?q=%22Al-Quadin+Muhammad%22', 'promoted_content': None, 'query': '%22Al-Quadin+Muhammad%22', 'tweet_volume': None}, {'name': 'Girardi', 'url': 'http://twitter.com/search?q=Girardi', 'promoted_content': None, 'query': 'Girardi', 'tweet_volume': None}, {'name': 'Josh Dobbs', 'url': 'http://twitter.com/search?q=%22Josh+Dobbs%22', 'promoted_content': None, 'query': '%22Josh+Dobbs%22', 'tweet_volume': 12411}, {'name': 'Round 5', 'url': 'http://twitter.com/search?q=%22Round+5%22', 'promoted_content': None, 'query': '%22Round+5%22', 'tweet_volume': None}, {'name': 'Austin Romine', 'url': 'http://twitter.com/search?q=%22Austin+Romine%22', 'promoted_content': None, 'query': '%22Austin+Romine%22', 'tweet_volume': None}, {'name': 'Desmond King', 'url': 'http://twitter.com/search?q=%22Desmond+King%22', 'promoted_content': None, 'query': '%22Desmond+King%22', 'tweet_volume': 10132}, {'name': 'Marquel Lee', 'url': 'http://twitter.com/search?q=%22Marquel+Lee%22', 'promoted_content': None, 'query': '%22Marquel+Lee%22', 'tweet_volume': None}, {'name': 'Adam Bisnowaty', 'url': 'http://twitter.com/search?q=%22Adam+Bisnowaty%22', 'promoted_content': None, 'query': '%22Adam+Bisnowaty%22', 'tweet_volume': None}, {'name': 'Jordan Evans', 'url': 'http://twitter.com/search?q=%22Jordan+Evans%22', 'promoted_content': None, 'query': '%22Jordan+Evans%22', 'tweet_volume': None}, {'name': 'David Robertson', 'url': 'http://twitter.com/search?q=%22David+Robertson%22', 'promoted_content': None, 'query': '%22David+Robertson%22', 'tweet_volume': None}, {'name': '#RegretInYourTearsVIDEO', 'url': 'http://twitter.com/search?q=%23RegretInYourTearsVIDEO', 'promoted_content': None, 'query': '%23RegretInYourTearsVIDEO', 'tweet_volume': None}, {'name': '#OneMoreTimeAnd', 'url': 'http://twitter.com/search?q=%23OneMoreTimeAnd', 'promoted_content': None, 'query': '%23OneMoreTimeAnd', 'tweet_volume': None}, {'name': '#GIFYourChildhood', 'url': 'http://twitter.com/search?q=%23GIFYourChildhood', 'promoted_content': None, 'query': '%23GIFYourChildhood', 'tweet_volume': 31475}, {'name': '#NCvORL', 'url': 'http://twitter.com/search?q=%23NCvORL', 'promoted_content': None, 'query': '%23NCvORL', 'tweet_volume': None}, {'name': '#PORvCHI', 'url': 'http://twitter.com/search?q=%23PORvCHI', 'promoted_content': None, 'query': '%23PORvCHI', 'tweet_volume': None}, {'name': '#Pikeville', 'url': 'http://twitter.com/search?q=%23Pikeville', 'promoted_content': None, 'query': '%23Pikeville', 'tweet_volume': None}, {'name': '#TableTopDay', 'url': 'http://twitter.com/search?q=%23TableTopDay', 'promoted_content': None, 'query': '%23TableTopDay', 'tweet_volume': None}, {'name': '#Dash4Cash', 'url': 'http://twitter.com/search?q=%23Dash4Cash', 'promoted_content': None, 'query': '%23Dash4Cash', 'tweet_volume': None}, {'name': '#ORLvCOL', 'url': 'http://twitter.com/search?q=%23ORLvCOL', 'promoted_content': None, 'query': '%23ORLvCOL', 'tweet_volume': None}, {'name': '#UselessScienceExperiments', 'url': 'http://twitter.com/search?q=%23UselessScienceExperiments', 'promoted_content': None, 'query': '%23UselessScienceExperiments', 'tweet_volume': None}, {'name': '#saturdaymorning', 'url': 'http://twitter.com/search?q=%23saturdaymorning', 'promoted_content': None, 'query': '%23saturdaymorning', 'tweet_volume': 34534}, {'name': '#DragCon', 'url': 'http://twitter.com/search?q=%23DragCon', 'promoted_content': None, 'query': '%23DragCon', 'tweet_volume': None}, {'name': '#MTLvVAN', 'url': 'http://twitter.com/search?q=%23MTLvVAN', 'promoted_content': None, 'query': '%23MTLvVAN', 'tweet_volume': None}, {'name': '#YALLWEST', 'url': 'http://twitter.com/search?q=%23YALLWEST', 'promoted_content': None, 'query': '%23YALLWEST', 'tweet_volume': None}, {'name': '#ARUBIANCUMPF', 'url': 'http://twitter.com/search?q=%23ARUBIANCUMPF', 'promoted_content': None, 'query': '%23ARUBIANCUMPF', 'tweet_volume': 15337}], 'as_of': '2017-04-29T20:56:30Z', 'created_at': '2017-04-29T20:50:29Z', 'locations': [{'name': 'United States', 'woeid': 23424977}]}]\n"
     ]
    }
   ],
   "source": [
    "# The Yahoo! Where On Earth ID for the entire world is 1.\n",
    "# See https://dev.twitter.com/docs/api/1.1/get/trends/place and\n",
    "# http://developer.yahoo.com/geo/geoplanet/\n",
    "\n",
    "WORLD_WOE_ID = 1\n",
    "US_WOE_ID = 23424977\n",
    "\n",
    "# Prefix ID with the underscore for query string parameterization.\n",
    "# Without the underscore, the twitter package appends the ID value\n",
    "# to the URL itself as a special case keyword argument.\n",
    "\n",
    "world_trends = twitter_api.trends.place(_id=WORLD_WOE_ID)\n",
    "us_trends = twitter_api.trends.place(_id=US_WOE_ID)\n",
    "\n",
    "print(world_trends)\n",
    "print()\n",
    "print(us_trends)"
   ]
  },
  {
   "cell_type": "markdown",
   "metadata": {
    "deletable": true,
    "editable": true
   },
   "source": [
    "## Example 3. Displaying API responses as pretty-printed JSON"
   ]
  },
  {
   "cell_type": "code",
   "execution_count": 7,
   "metadata": {
    "collapsed": false,
    "deletable": true,
    "editable": true
   },
   "outputs": [
    {
     "name": "stdout",
     "output_type": "stream",
     "text": [
      "[\n",
      " {\n",
      "  \"trends\": [\n",
      "   {\n",
      "    \"name\": \"#\\u0627\\u0644\\u0647\\u0644\\u0627\\u0644_\\u0627\\u0644\\u0648\\u062d\\u062f\\u0647\",\n",
      "    \"url\": \"http://twitter.com/search?q=%23%D8%A7%D9%84%D9%87%D9%84%D8%A7%D9%84_%D8%A7%D9%84%D9%88%D8%AD%D8%AF%D9%87\",\n",
      "    \"promoted_content\": null,\n",
      "    \"query\": \"%23%D8%A7%D9%84%D9%87%D9%84%D8%A7%D9%84_%D8%A7%D9%84%D9%88%D8%AD%D8%AF%D9%87\",\n",
      "    \"tweet_volume\": 152212\n",
      "   },\n",
      "   {\n",
      "    \"name\": \"#JoshuaKlitchsko\",\n",
      "    \"url\": \"http://twitter.com/search?q=%23JoshuaKlitchsko\",\n",
      "    \"promoted_content\": null,\n",
      "    \"query\": \"%23JoshuaKlitchsko\",\n",
      "    \"tweet_volume\": 27956\n",
      "   },\n",
      "   {\n",
      "    \"name\": \"Espanyol\",\n",
      "    \"url\": \"http://twitter.com/search?q=Espanyol\",\n",
      "    \"promoted_content\": null,\n",
      "    \"query\": \"Espanyol\",\n",
      "    \"tweet_volume\": 58514\n",
      "   },\n",
      "   {\n",
      "    \"name\": \"#LuanNoCaldeirao\",\n",
      "    \"url\": \"http://twitter.com/search?q=%23LuanNoCaldeirao\",\n",
      "    \"promoted_content\": null,\n",
      "    \"query\": \"%23LuanNoCaldeirao\",\n",
      "    \"tweet_volume\": 28723\n",
      "   },\n",
      "   {\n",
      "    \"name\": \"#climatemarch\",\n",
      "    \"url\": \"http://twitter.com/search?q=%23climatemarch\",\n",
      "    \"promoted_content\": null,\n",
      "    \"query\": \"%23climatemarch\",\n",
      "    \"tweet_volume\": 192988\n",
      "   },\n",
      "   {\n",
      "    \"name\": \"#\\u0627\\u0644\\u0627\\u062a\\u062d\\u0627\\u062f_\\u0627\\u0644\\u0641\\u064a\\u0635\\u0644\\u064a\",\n",
      "    \"url\": \"http://twitter.com/search?q=%23%D8%A7%D9%84%D8%A7%D8%AA%D8%AD%D8%A7%D8%AF_%D8%A7%D9%84%D9%81%D9%8A%D8%B5%D9%84%D9%8A\",\n",
      "    \"promoted_content\": null,\n",
      "    \"query\": \"%23%D8%A7%D9%84%D8%A7%D8%AA%D8%AD%D8%A7%D8%AF_%D8%A7%D9%84%D9%81%D9%8A%D8%B5%D9%84%D9%8A\",\n",
      "    \"tweet_volume\": 86529\n",
      "   },\n",
      "   {\n",
      "    \"name\": \"Yeni KHK\",\n",
      "    \"url\": \"http://twitter.com/search?q=%22Yeni+KHK%22\",\n",
      "    \"promoted_content\": null,\n",
      "    \"query\": \"%22Yeni+KHK%22\",\n",
      "    \"tweet_volume\": 41685\n",
      "   },\n",
      "   {\n",
      "    \"name\": \"Xavier Woods\",\n",
      "    \"url\": \"http://twitter.com/search?q=%22Xavier+Woods%22\",\n",
      "    \"promoted_content\": null,\n",
      "    \"query\": \"%22Xavier+Woods%22\",\n",
      "    \"tweet_volume\": null\n",
      "   },\n",
      "   {\n",
      "    \"name\": \"Bundesliga\",\n",
      "    \"url\": \"http://twitter.com/search?q=Bundesliga\",\n",
      "    \"promoted_content\": null,\n",
      "    \"query\": \"Bundesliga\",\n",
      "    \"tweet_volume\": 53456\n",
      "   },\n",
      "   {\n",
      "    \"name\": \"Mike Tyson\",\n",
      "    \"url\": \"http://twitter.com/search?q=%22Mike+Tyson%22\",\n",
      "    \"promoted_content\": null,\n",
      "    \"query\": \"%22Mike+Tyson%22\",\n",
      "    \"tweet_volume\": null\n",
      "   },\n",
      "   {\n",
      "    \"name\": \"Evlilik Programlar\\u0131\",\n",
      "    \"url\": \"http://twitter.com/search?q=%22Evlilik+Programlar%C4%B1%22\",\n",
      "    \"promoted_content\": null,\n",
      "    \"query\": \"%22Evlilik+Programlar%C4%B1%22\",\n",
      "    \"tweet_volume\": 55245\n",
      "   },\n",
      "   {\n",
      "    \"name\": \"Caleb Brantley\",\n",
      "    \"url\": \"http://twitter.com/search?q=%22Caleb+Brantley%22\",\n",
      "    \"promoted_content\": null,\n",
      "    \"query\": \"%22Caleb+Brantley%22\",\n",
      "    \"tweet_volume\": null\n",
      "   },\n",
      "   {\n",
      "    \"name\": \"Mercier\",\n",
      "    \"url\": \"http://twitter.com/search?q=Mercier\",\n",
      "    \"promoted_content\": null,\n",
      "    \"query\": \"Mercier\",\n",
      "    \"tweet_volume\": null\n",
      "   },\n",
      "   {\n",
      "    \"name\": \"Aaron Judge\",\n",
      "    \"url\": \"http://twitter.com/search?q=%22Aaron+Judge%22\",\n",
      "    \"promoted_content\": null,\n",
      "    \"query\": \"%22Aaron+Judge%22\",\n",
      "    \"tweet_volume\": 10902\n",
      "   },\n",
      "   {\n",
      "    \"name\": \"\\u0645\\u062d\\u0645\\u062f \\u0627\\u0644\\u0634\\u0644\\u0647\\u0648\\u0628\",\n",
      "    \"url\": \"http://twitter.com/search?q=%22%D9%85%D8%AD%D9%85%D8%AF+%D8%A7%D9%84%D8%B4%D9%84%D9%87%D9%88%D8%A8%22\",\n",
      "    \"promoted_content\": null,\n",
      "    \"query\": \"%22%D9%85%D8%AD%D9%85%D8%AF+%D8%A7%D9%84%D8%B4%D9%84%D9%87%D9%88%D8%A8%22\",\n",
      "    \"tweet_volume\": 16026\n",
      "   },\n",
      "   {\n",
      "    \"name\": \"Hurac\\u00e1n\",\n",
      "    \"url\": \"http://twitter.com/search?q=Hurac%C3%A1n\",\n",
      "    \"promoted_content\": null,\n",
      "    \"query\": \"Hurac%C3%A1n\",\n",
      "    \"tweet_volume\": null\n",
      "   },\n",
      "   {\n",
      "    \"name\": \"Quigg\",\n",
      "    \"url\": \"http://twitter.com/search?q=Quigg\",\n",
      "    \"promoted_content\": null,\n",
      "    \"query\": \"Quigg\",\n",
      "    \"tweet_volume\": null\n",
      "   },\n",
      "   {\n",
      "    \"name\": \"Corujo\",\n",
      "    \"url\": \"http://twitter.com/search?q=Corujo\",\n",
      "    \"promoted_content\": null,\n",
      "    \"query\": \"Corujo\",\n",
      "    \"tweet_volume\": null\n",
      "   },\n",
      "   {\n",
      "    \"name\": \"#\\u0628\\u0631\\u0634\\u0644\\u0648\\u0646\\u0647_\\u0627\\u0633\\u0628\\u0627\\u0646\\u064a\\u0648\\u0644\",\n",
      "    \"url\": \"http://twitter.com/search?q=%23%D8%A8%D8%B1%D8%B4%D9%84%D9%88%D9%86%D9%87_%D8%A7%D8%B3%D8%A8%D8%A7%D9%86%D9%8A%D9%88%D9%84\",\n",
      "    \"promoted_content\": null,\n",
      "    \"query\": \"%23%D8%A8%D8%B1%D8%B4%D9%84%D9%88%D9%86%D9%87_%D8%A7%D8%B3%D8%A8%D8%A7%D9%86%D9%8A%D9%88%D9%84\",\n",
      "    \"tweet_volume\": 24394\n",
      "   },\n",
      "   {\n",
      "    \"name\": \"#YoApoyoLaMoci\\u00f3n\",\n",
      "    \"url\": \"http://twitter.com/search?q=%23YoApoyoLaMoci%C3%B3n\",\n",
      "    \"promoted_content\": null,\n",
      "    \"query\": \"%23YoApoyoLaMoci%C3%B3n\",\n",
      "    \"tweet_volume\": 16596\n",
      "   },\n",
      "   {\n",
      "    \"name\": \"#\\u0637\\u0644\\u0627\\u0628_\\u062c\\u0627\\u0645\\u0639\\u0647_\\u062e\\u0627\\u0644\\u062f_\\u064a\\u0631\\u0641\\u0636\\u0648\\u0646_\\u0627\\u0644\\u062a\\u0639\\u0644\\u064a\\u0642\",\n",
      "    \"url\": \"http://twitter.com/search?q=%23%D8%B7%D9%84%D8%A7%D8%A8_%D8%AC%D8%A7%D9%85%D8%B9%D9%87_%D8%AE%D8%A7%D9%84%D8%AF_%D9%8A%D8%B1%D9%81%D8%B6%D9%88%D9%86_%D8%A7%D9%84%D8%AA%D8%B9%D9%84%D9%8A%D9%82\",\n",
      "    \"promoted_content\": null,\n",
      "    \"query\": \"%23%D8%B7%D9%84%D8%A7%D8%A8_%D8%AC%D8%A7%D9%85%D8%B9%D9%87_%D8%AE%D8%A7%D9%84%D8%AF_%D9%8A%D8%B1%D9%81%D8%B6%D9%88%D9%86_%D8%A7%D9%84%D8%AA%D8%B9%D9%84%D9%8A%D9%82\",\n",
      "    \"tweet_volume\": null\n",
      "   },\n",
      "   {\n",
      "    \"name\": \"#L6Nigonzalezo\",\n",
      "    \"url\": \"http://twitter.com/search?q=%23L6Nigonzalezo\",\n",
      "    \"promoted_content\": null,\n",
      "    \"query\": \"%23L6Nigonzalezo\",\n",
      "    \"tweet_volume\": null\n",
      "   },\n",
      "   {\n",
      "    \"name\": \"#JarreinLiebana\",\n",
      "    \"url\": \"http://twitter.com/search?q=%23JarreinLiebana\",\n",
      "    \"promoted_content\": null,\n",
      "    \"query\": \"%23JarreinLiebana\",\n",
      "    \"tweet_volume\": null\n",
      "   },\n",
      "   {\n",
      "    \"name\": \"#GLvMI\",\n",
      "    \"url\": \"http://twitter.com/search?q=%23GLvMI\",\n",
      "    \"promoted_content\": null,\n",
      "    \"query\": \"%23GLvMI\",\n",
      "    \"tweet_volume\": 39113\n",
      "   },\n",
      "   {\n",
      "    \"name\": \"#Ulisse\",\n",
      "    \"url\": \"http://twitter.com/search?q=%23Ulisse\",\n",
      "    \"promoted_content\": null,\n",
      "    \"query\": \"%23Ulisse\",\n",
      "    \"tweet_volume\": null\n",
      "   },\n",
      "   {\n",
      "    \"name\": \"#\\u0627\\u0634\\u0647\\u0631_\\u062c\\u0645\\u0644_\\u0641\\u064a_\\u0627\\u0644\\u0633\\u064a\\u0646\\u0645\\u0627_\\u0627\\u0644\\u0645\\u0635\\u0631\\u064a\\u0647\",\n",
      "    \"url\": \"http://twitter.com/search?q=%23%D8%A7%D8%B4%D9%87%D8%B1_%D8%AC%D9%85%D9%84_%D9%81%D9%8A_%D8%A7%D9%84%D8%B3%D9%8A%D9%86%D9%85%D8%A7_%D8%A7%D9%84%D9%85%D8%B5%D8%B1%D9%8A%D9%87\",\n",
      "    \"promoted_content\": null,\n",
      "    \"query\": \"%23%D8%A7%D8%B4%D9%87%D8%B1_%D8%AC%D9%85%D9%84_%D9%81%D9%8A_%D8%A7%D9%84%D8%B3%D9%8A%D9%86%D9%85%D8%A7_%D8%A7%D9%84%D9%85%D8%B5%D8%B1%D9%8A%D9%87\",\n",
      "    \"tweet_volume\": null\n",
      "   },\n",
      "   {\n",
      "    \"name\": \"#BallandoConLeStelle\",\n",
      "    \"url\": \"http://twitter.com/search?q=%23BallandoConLeStelle\",\n",
      "    \"promoted_content\": null,\n",
      "    \"query\": \"%23BallandoConLeStelle\",\n",
      "    \"tweet_volume\": 41694\n",
      "   },\n",
      "   {\n",
      "    \"name\": \"#Casualty\",\n",
      "    \"url\": \"http://twitter.com/search?q=%23Casualty\",\n",
      "    \"promoted_content\": null,\n",
      "    \"query\": \"%23Casualty\",\n",
      "    \"tweet_volume\": null\n",
      "   },\n",
      "   {\n",
      "    \"name\": \"#\\u062d\\u064a\\u0627\\u062a\\u064378\",\n",
      "    \"url\": \"http://twitter.com/search?q=%23%D8%AD%D9%8A%D8%A7%D8%AA%D9%8378\",\n",
      "    \"promoted_content\": null,\n",
      "    \"query\": \"%23%D8%AD%D9%8A%D8%A7%D8%AA%D9%8378\",\n",
      "    \"tweet_volume\": 89131\n",
      "   },\n",
      "   {\n",
      "    \"name\": \"#independentbookstoreday\",\n",
      "    \"url\": \"http://twitter.com/search?q=%23independentbookstoreday\",\n",
      "    \"promoted_content\": null,\n",
      "    \"query\": \"%23independentbookstoreday\",\n",
      "    \"tweet_volume\": null\n",
      "   },\n",
      "   {\n",
      "    \"name\": \"#NotTheWHCD\",\n",
      "    \"url\": \"http://twitter.com/search?q=%23NotTheWHCD\",\n",
      "    \"promoted_content\": null,\n",
      "    \"query\": \"%23NotTheWHCD\",\n",
      "    \"tweet_volume\": null\n",
      "   },\n",
      "   {\n",
      "    \"name\": \"#BritainsGotTalent\",\n",
      "    \"url\": \"http://twitter.com/search?q=%23BritainsGotTalent\",\n",
      "    \"promoted_content\": null,\n",
      "    \"query\": \"%23BritainsGotTalent\",\n",
      "    \"tweet_volume\": null\n",
      "   },\n",
      "   {\n",
      "    \"name\": \"#RDMA\",\n",
      "    \"url\": \"http://twitter.com/search?q=%23RDMA\",\n",
      "    \"promoted_content\": null,\n",
      "    \"query\": \"%23RDMA\",\n",
      "    \"tweet_volume\": 32413\n",
      "   },\n",
      "   {\n",
      "    \"name\": \"#DiadelAnimal\",\n",
      "    \"url\": \"http://twitter.com/search?q=%23DiadelAnimal\",\n",
      "    \"promoted_content\": null,\n",
      "    \"query\": \"%23DiadelAnimal\",\n",
      "    \"tweet_volume\": 27044\n",
      "   },\n",
      "   {\n",
      "    \"name\": \"#NellUltimaPuntataDiTwitter\",\n",
      "    \"url\": \"http://twitter.com/search?q=%23NellUltimaPuntataDiTwitter\",\n",
      "    \"promoted_content\": null,\n",
      "    \"query\": \"%23NellUltimaPuntataDiTwitter\",\n",
      "    \"tweet_volume\": null\n",
      "   },\n",
      "   {\n",
      "    \"name\": \"#rtlboxen\",\n",
      "    \"url\": \"http://twitter.com/search?q=%23rtlboxen\",\n",
      "    \"promoted_content\": null,\n",
      "    \"query\": \"%23rtlboxen\",\n",
      "    \"tweet_volume\": null\n",
      "   },\n",
      "   {\n",
      "    \"name\": \"#\\u062a\\u062d\\u062f\\u064a_\\u062c\\u0631\\u064a\\u0631_\\u0627\\u06338\",\n",
      "    \"url\": \"http://twitter.com/search?q=%23%D8%AA%D8%AD%D8%AF%D9%8A_%D8%AC%D8%B1%D9%8A%D8%B1_%D8%A7%D8%B38\",\n",
      "    \"promoted_content\": null,\n",
      "    \"query\": \"%23%D8%AA%D8%AD%D8%AF%D9%8A_%D8%AC%D8%B1%D9%8A%D8%B1_%D8%A7%D8%B38\",\n",
      "    \"tweet_volume\": 35126\n",
      "   },\n",
      "   {\n",
      "    \"name\": \"#SevemezKimseSeni\",\n",
      "    \"url\": \"http://twitter.com/search?q=%23SevemezKimseSeni\",\n",
      "    \"promoted_content\": null,\n",
      "    \"query\": \"%23SevemezKimseSeni\",\n",
      "    \"tweet_volume\": 16196\n",
      "   },\n",
      "   {\n",
      "    \"name\": \"#StarAcademygr\",\n",
      "    \"url\": \"http://twitter.com/search?q=%23StarAcademygr\",\n",
      "    \"promoted_content\": null,\n",
      "    \"query\": \"%23StarAcademygr\",\n",
      "    \"tweet_volume\": null\n",
      "   },\n",
      "   {\n",
      "    \"name\": \"#RegretInYourTearsVIDEO\",\n",
      "    \"url\": \"http://twitter.com/search?q=%23RegretInYourTearsVIDEO\",\n",
      "    \"promoted_content\": null,\n",
      "    \"query\": \"%23RegretInYourTearsVIDEO\",\n",
      "    \"tweet_volume\": null\n",
      "   },\n",
      "   {\n",
      "    \"name\": \"#\\u0627\\u0644\\u062a\\u0639\\u0627\\u0648\\u0646_\\u0627\\u0644\\u0628\\u0627\\u0637\\u0646\",\n",
      "    \"url\": \"http://twitter.com/search?q=%23%D8%A7%D9%84%D8%AA%D8%B9%D8%A7%D9%88%D9%86_%D8%A7%D9%84%D8%A8%D8%A7%D8%B7%D9%86\",\n",
      "    \"promoted_content\": null,\n",
      "    \"query\": \"%23%D8%A7%D9%84%D8%AA%D8%B9%D8%A7%D9%88%D9%86_%D8%A7%D9%84%D8%A8%D8%A7%D8%B7%D9%86\",\n",
      "    \"tweet_volume\": null\n",
      "   },\n",
      "   {\n",
      "    \"name\": \"#Do\\u00f1aPelosParaPresidentaY\",\n",
      "    \"url\": \"http://twitter.com/search?q=%23Do%C3%B1aPelosParaPresidentaY\",\n",
      "    \"promoted_content\": null,\n",
      "    \"query\": \"%23Do%C3%B1aPelosParaPresidentaY\",\n",
      "    \"tweet_volume\": 34277\n",
      "   },\n",
      "   {\n",
      "    \"name\": \"#OLMCW\",\n",
      "    \"url\": \"http://twitter.com/search?q=%23OLMCW\",\n",
      "    \"promoted_content\": null,\n",
      "    \"query\": \"%23OLMCW\",\n",
      "    \"tweet_volume\": null\n",
      "   },\n",
      "   {\n",
      "    \"name\": \"#\\u0645\\u0637\\u0628\\u0642_\\u0627\\u0644\\u0641\\u0648\\u062f\\u0647\",\n",
      "    \"url\": \"http://twitter.com/search?q=%23%D9%85%D8%B7%D8%A8%D9%82_%D8%A7%D9%84%D9%81%D9%88%D8%AF%D9%87\",\n",
      "    \"promoted_content\": null,\n",
      "    \"query\": \"%23%D9%85%D8%B7%D8%A8%D9%82_%D8%A7%D9%84%D9%81%D9%88%D8%AF%D9%87\",\n",
      "    \"tweet_volume\": null\n",
      "   },\n",
      "   {\n",
      "    \"name\": \"#SiTodoFueraPuroAmor\",\n",
      "    \"url\": \"http://twitter.com/search?q=%23SiTodoFueraPuroAmor\",\n",
      "    \"promoted_content\": null,\n",
      "    \"query\": \"%23SiTodoFueraPuroAmor\",\n",
      "    \"tweet_volume\": null\n",
      "   },\n",
      "   {\n",
      "    \"name\": \"#MTLvVAN\",\n",
      "    \"url\": \"http://twitter.com/search?q=%23MTLvVAN\",\n",
      "    \"promoted_content\": null,\n",
      "    \"query\": \"%23MTLvVAN\",\n",
      "    \"tweet_volume\": null\n",
      "   },\n",
      "   {\n",
      "    \"name\": \"#TakeMeOut\",\n",
      "    \"url\": \"http://twitter.com/search?q=%23TakeMeOut\",\n",
      "    \"promoted_content\": null,\n",
      "    \"query\": \"%23TakeMeOut\",\n",
      "    \"tweet_volume\": null\n",
      "   },\n",
      "   {\n",
      "    \"name\": \"#TorinoSamp\",\n",
      "    \"url\": \"http://twitter.com/search?q=%23TorinoSamp\",\n",
      "    \"promoted_content\": null,\n",
      "    \"query\": \"%23TorinoSamp\",\n",
      "    \"tweet_volume\": null\n",
      "   },\n",
      "   {\n",
      "    \"name\": \"#AyunoPorVenezuela\",\n",
      "    \"url\": \"http://twitter.com/search?q=%23AyunoPorVenezuela\",\n",
      "    \"promoted_content\": null,\n",
      "    \"query\": \"%23AyunoPorVenezuela\",\n",
      "    \"tweet_volume\": 23813\n",
      "   },\n",
      "   {\n",
      "    \"name\": \"#\\u0631\\u064a\\u0627\\u0644_\\u0645\\u062f\\u0631\\u064a\\u062f_\\u0641\\u0627\\u0644\\u0646\\u0633\\u064a\\u0627\",\n",
      "    \"url\": \"http://twitter.com/search?q=%23%D8%B1%D9%8A%D8%A7%D9%84_%D9%85%D8%AF%D8%B1%D9%8A%D8%AF_%D9%81%D8%A7%D9%84%D9%86%D8%B3%D9%8A%D8%A7\",\n",
      "    \"promoted_content\": null,\n",
      "    \"query\": \"%23%D8%B1%D9%8A%D8%A7%D9%84_%D9%85%D8%AF%D8%B1%D9%8A%D8%AF_%D9%81%D8%A7%D9%84%D9%86%D8%B3%D9%8A%D8%A7\",\n",
      "    \"tweet_volume\": 79320\n",
      "   }\n",
      "  ],\n",
      "  \"as_of\": \"2017-04-29T20:56:30Z\",\n",
      "  \"created_at\": \"2017-04-29T20:50:29Z\",\n",
      "  \"locations\": [\n",
      "   {\n",
      "    \"name\": \"Worldwide\",\n",
      "    \"woeid\": 1\n",
      "   }\n",
      "  ]\n",
      " }\n",
      "]\n",
      "\n",
      "[\n",
      " {\n",
      "  \"trends\": [\n",
      "   {\n",
      "    \"name\": \"#climatemarch\",\n",
      "    \"url\": \"http://twitter.com/search?q=%23climatemarch\",\n",
      "    \"promoted_content\": null,\n",
      "    \"query\": \"%23climatemarch\",\n",
      "    \"tweet_volume\": 192988\n",
      "   },\n",
      "   {\n",
      "    \"name\": \"#NotTheWHCD\",\n",
      "    \"url\": \"http://twitter.com/search?q=%23NotTheWHCD\",\n",
      "    \"promoted_content\": null,\n",
      "    \"query\": \"%23NotTheWHCD\",\n",
      "    \"tweet_volume\": null\n",
      "   },\n",
      "   {\n",
      "    \"name\": \"#independentbookstoreday\",\n",
      "    \"url\": \"http://twitter.com/search?q=%23independentbookstoreday\",\n",
      "    \"promoted_content\": null,\n",
      "    \"query\": \"%23independentbookstoreday\",\n",
      "    \"tweet_volume\": null\n",
      "   },\n",
      "   {\n",
      "    \"name\": \"#JoshuaKlitchsko\",\n",
      "    \"url\": \"http://twitter.com/search?q=%23JoshuaKlitchsko\",\n",
      "    \"promoted_content\": null,\n",
      "    \"query\": \"%23JoshuaKlitchsko\",\n",
      "    \"tweet_volume\": 27956\n",
      "   },\n",
      "   {\n",
      "    \"name\": \"Xavier Woods\",\n",
      "    \"url\": \"http://twitter.com/search?q=%22Xavier+Woods%22\",\n",
      "    \"promoted_content\": null,\n",
      "    \"query\": \"%22Xavier+Woods%22\",\n",
      "    \"tweet_volume\": null\n",
      "   },\n",
      "   {\n",
      "    \"name\": \"Mike Tyson\",\n",
      "    \"url\": \"http://twitter.com/search?q=%22Mike+Tyson%22\",\n",
      "    \"promoted_content\": null,\n",
      "    \"query\": \"%22Mike+Tyson%22\",\n",
      "    \"tweet_volume\": null\n",
      "   },\n",
      "   {\n",
      "    \"name\": \"Caleb Brantley\",\n",
      "    \"url\": \"http://twitter.com/search?q=%22Caleb+Brantley%22\",\n",
      "    \"promoted_content\": null,\n",
      "    \"query\": \"%22Caleb+Brantley%22\",\n",
      "    \"tweet_volume\": null\n",
      "   },\n",
      "   {\n",
      "    \"name\": \"#NYRvsOTT\",\n",
      "    \"url\": \"http://twitter.com/search?q=%23NYRvsOTT\",\n",
      "    \"promoted_content\": null,\n",
      "    \"query\": \"%23NYRvsOTT\",\n",
      "    \"tweet_volume\": null\n",
      "   },\n",
      "   {\n",
      "    \"name\": \"Chase Roullier\",\n",
      "    \"url\": \"http://twitter.com/search?q=%22Chase+Roullier%22\",\n",
      "    \"promoted_content\": null,\n",
      "    \"query\": \"%22Chase+Roullier%22\",\n",
      "    \"tweet_volume\": null\n",
      "   },\n",
      "   {\n",
      "    \"name\": \"Bucky Hodges\",\n",
      "    \"url\": \"http://twitter.com/search?q=%22Bucky+Hodges%22\",\n",
      "    \"promoted_content\": null,\n",
      "    \"query\": \"%22Bucky+Hodges%22\",\n",
      "    \"tweet_volume\": null\n",
      "   },\n",
      "   {\n",
      "    \"name\": \"Michael Conforto\",\n",
      "    \"url\": \"http://twitter.com/search?q=%22Michael+Conforto%22\",\n",
      "    \"promoted_content\": null,\n",
      "    \"query\": \"%22Michael+Conforto%22\",\n",
      "    \"tweet_volume\": null\n",
      "   },\n",
      "   {\n",
      "    \"name\": \"Trent Taylor\",\n",
      "    \"url\": \"http://twitter.com/search?q=%22Trent+Taylor%22\",\n",
      "    \"promoted_content\": null,\n",
      "    \"query\": \"%22Trent+Taylor%22\",\n",
      "    \"tweet_volume\": null\n",
      "   },\n",
      "   {\n",
      "    \"name\": \"Aaron Jones\",\n",
      "    \"url\": \"http://twitter.com/search?q=%22Aaron+Jones%22\",\n",
      "    \"promoted_content\": null,\n",
      "    \"query\": \"%22Aaron+Jones%22\",\n",
      "    \"tweet_volume\": null\n",
      "   },\n",
      "   {\n",
      "    \"name\": \"Chuck Clark\",\n",
      "    \"url\": \"http://twitter.com/search?q=%22Chuck+Clark%22\",\n",
      "    \"promoted_content\": null,\n",
      "    \"query\": \"%22Chuck+Clark%22\",\n",
      "    \"tweet_volume\": null\n",
      "   },\n",
      "   {\n",
      "    \"name\": \"Isaiah McKenzie\",\n",
      "    \"url\": \"http://twitter.com/search?q=%22Isaiah+McKenzie%22\",\n",
      "    \"promoted_content\": null,\n",
      "    \"query\": \"%22Isaiah+McKenzie%22\",\n",
      "    \"tweet_volume\": null\n",
      "   },\n",
      "   {\n",
      "    \"name\": \"Nathan Gerry\",\n",
      "    \"url\": \"http://twitter.com/search?q=%22Nathan+Gerry%22\",\n",
      "    \"promoted_content\": null,\n",
      "    \"query\": \"%22Nathan+Gerry%22\",\n",
      "    \"tweet_volume\": null\n",
      "   },\n",
      "   {\n",
      "    \"name\": \"Brad Kaaya\",\n",
      "    \"url\": \"http://twitter.com/search?q=%22Brad+Kaaya%22\",\n",
      "    \"promoted_content\": null,\n",
      "    \"query\": \"%22Brad+Kaaya%22\",\n",
      "    \"tweet_volume\": null\n",
      "   },\n",
      "   {\n",
      "    \"name\": \"Craig Anderson\",\n",
      "    \"url\": \"http://twitter.com/search?q=%22Craig+Anderson%22\",\n",
      "    \"promoted_content\": null,\n",
      "    \"query\": \"%22Craig+Anderson%22\",\n",
      "    \"tweet_volume\": null\n",
      "   },\n",
      "   {\n",
      "    \"name\": \"Kreider\",\n",
      "    \"url\": \"http://twitter.com/search?q=Kreider\",\n",
      "    \"promoted_content\": null,\n",
      "    \"query\": \"Kreider\",\n",
      "    \"tweet_volume\": null\n",
      "   },\n",
      "   {\n",
      "    \"name\": \"Alex Armah\",\n",
      "    \"url\": \"http://twitter.com/search?q=%22Alex+Armah%22\",\n",
      "    \"promoted_content\": null,\n",
      "    \"query\": \"%22Alex+Armah%22\",\n",
      "    \"tweet_volume\": null\n",
      "   },\n",
      "   {\n",
      "    \"name\": \"H\\u00e9ctor Pesquera\",\n",
      "    \"url\": \"http://twitter.com/search?q=%22H%C3%A9ctor+Pesquera%22\",\n",
      "    \"promoted_content\": null,\n",
      "    \"query\": \"%22H%C3%A9ctor+Pesquera%22\",\n",
      "    \"tweet_volume\": null\n",
      "   },\n",
      "   {\n",
      "    \"name\": \"Caleb Joseph\",\n",
      "    \"url\": \"http://twitter.com/search?q=%22Caleb+Joseph%22\",\n",
      "    \"promoted_content\": null,\n",
      "    \"query\": \"%22Caleb+Joseph%22\",\n",
      "    \"tweet_volume\": null\n",
      "   },\n",
      "   {\n",
      "    \"name\": \"Rodney Adams\",\n",
      "    \"url\": \"http://twitter.com/search?q=%22Rodney+Adams%22\",\n",
      "    \"promoted_content\": null,\n",
      "    \"query\": \"%22Rodney+Adams%22\",\n",
      "    \"tweet_volume\": null\n",
      "   },\n",
      "   {\n",
      "    \"name\": \"Avery Moss\",\n",
      "    \"url\": \"http://twitter.com/search?q=%22Avery+Moss%22\",\n",
      "    \"promoted_content\": null,\n",
      "    \"query\": \"%22Avery+Moss%22\",\n",
      "    \"tweet_volume\": null\n",
      "   },\n",
      "   {\n",
      "    \"name\": \"Espanyol\",\n",
      "    \"url\": \"http://twitter.com/search?q=Espanyol\",\n",
      "    \"promoted_content\": null,\n",
      "    \"query\": \"Espanyol\",\n",
      "    \"tweet_volume\": 58514\n",
      "   },\n",
      "   {\n",
      "    \"name\": \"Al-Quadin Muhammad\",\n",
      "    \"url\": \"http://twitter.com/search?q=%22Al-Quadin+Muhammad%22\",\n",
      "    \"promoted_content\": null,\n",
      "    \"query\": \"%22Al-Quadin+Muhammad%22\",\n",
      "    \"tweet_volume\": null\n",
      "   },\n",
      "   {\n",
      "    \"name\": \"Girardi\",\n",
      "    \"url\": \"http://twitter.com/search?q=Girardi\",\n",
      "    \"promoted_content\": null,\n",
      "    \"query\": \"Girardi\",\n",
      "    \"tweet_volume\": null\n",
      "   },\n",
      "   {\n",
      "    \"name\": \"Josh Dobbs\",\n",
      "    \"url\": \"http://twitter.com/search?q=%22Josh+Dobbs%22\",\n",
      "    \"promoted_content\": null,\n",
      "    \"query\": \"%22Josh+Dobbs%22\",\n",
      "    \"tweet_volume\": 12411\n",
      "   },\n",
      "   {\n",
      "    \"name\": \"Round 5\",\n",
      "    \"url\": \"http://twitter.com/search?q=%22Round+5%22\",\n",
      "    \"promoted_content\": null,\n",
      "    \"query\": \"%22Round+5%22\",\n",
      "    \"tweet_volume\": null\n",
      "   },\n",
      "   {\n",
      "    \"name\": \"Austin Romine\",\n",
      "    \"url\": \"http://twitter.com/search?q=%22Austin+Romine%22\",\n",
      "    \"promoted_content\": null,\n",
      "    \"query\": \"%22Austin+Romine%22\",\n",
      "    \"tweet_volume\": null\n",
      "   },\n",
      "   {\n",
      "    \"name\": \"Desmond King\",\n",
      "    \"url\": \"http://twitter.com/search?q=%22Desmond+King%22\",\n",
      "    \"promoted_content\": null,\n",
      "    \"query\": \"%22Desmond+King%22\",\n",
      "    \"tweet_volume\": 10132\n",
      "   },\n",
      "   {\n",
      "    \"name\": \"Marquel Lee\",\n",
      "    \"url\": \"http://twitter.com/search?q=%22Marquel+Lee%22\",\n",
      "    \"promoted_content\": null,\n",
      "    \"query\": \"%22Marquel+Lee%22\",\n",
      "    \"tweet_volume\": null\n",
      "   },\n",
      "   {\n",
      "    \"name\": \"Adam Bisnowaty\",\n",
      "    \"url\": \"http://twitter.com/search?q=%22Adam+Bisnowaty%22\",\n",
      "    \"promoted_content\": null,\n",
      "    \"query\": \"%22Adam+Bisnowaty%22\",\n",
      "    \"tweet_volume\": null\n",
      "   },\n",
      "   {\n",
      "    \"name\": \"Jordan Evans\",\n",
      "    \"url\": \"http://twitter.com/search?q=%22Jordan+Evans%22\",\n",
      "    \"promoted_content\": null,\n",
      "    \"query\": \"%22Jordan+Evans%22\",\n",
      "    \"tweet_volume\": null\n",
      "   },\n",
      "   {\n",
      "    \"name\": \"David Robertson\",\n",
      "    \"url\": \"http://twitter.com/search?q=%22David+Robertson%22\",\n",
      "    \"promoted_content\": null,\n",
      "    \"query\": \"%22David+Robertson%22\",\n",
      "    \"tweet_volume\": null\n",
      "   },\n",
      "   {\n",
      "    \"name\": \"#RegretInYourTearsVIDEO\",\n",
      "    \"url\": \"http://twitter.com/search?q=%23RegretInYourTearsVIDEO\",\n",
      "    \"promoted_content\": null,\n",
      "    \"query\": \"%23RegretInYourTearsVIDEO\",\n",
      "    \"tweet_volume\": null\n",
      "   },\n",
      "   {\n",
      "    \"name\": \"#OneMoreTimeAnd\",\n",
      "    \"url\": \"http://twitter.com/search?q=%23OneMoreTimeAnd\",\n",
      "    \"promoted_content\": null,\n",
      "    \"query\": \"%23OneMoreTimeAnd\",\n",
      "    \"tweet_volume\": null\n",
      "   },\n",
      "   {\n",
      "    \"name\": \"#GIFYourChildhood\",\n",
      "    \"url\": \"http://twitter.com/search?q=%23GIFYourChildhood\",\n",
      "    \"promoted_content\": null,\n",
      "    \"query\": \"%23GIFYourChildhood\",\n",
      "    \"tweet_volume\": 31475\n",
      "   },\n",
      "   {\n",
      "    \"name\": \"#NCvORL\",\n",
      "    \"url\": \"http://twitter.com/search?q=%23NCvORL\",\n",
      "    \"promoted_content\": null,\n",
      "    \"query\": \"%23NCvORL\",\n",
      "    \"tweet_volume\": null\n",
      "   },\n",
      "   {\n",
      "    \"name\": \"#PORvCHI\",\n",
      "    \"url\": \"http://twitter.com/search?q=%23PORvCHI\",\n",
      "    \"promoted_content\": null,\n",
      "    \"query\": \"%23PORvCHI\",\n",
      "    \"tweet_volume\": null\n",
      "   },\n",
      "   {\n",
      "    \"name\": \"#Pikeville\",\n",
      "    \"url\": \"http://twitter.com/search?q=%23Pikeville\",\n",
      "    \"promoted_content\": null,\n",
      "    \"query\": \"%23Pikeville\",\n",
      "    \"tweet_volume\": null\n",
      "   },\n",
      "   {\n",
      "    \"name\": \"#TableTopDay\",\n",
      "    \"url\": \"http://twitter.com/search?q=%23TableTopDay\",\n",
      "    \"promoted_content\": null,\n",
      "    \"query\": \"%23TableTopDay\",\n",
      "    \"tweet_volume\": null\n",
      "   },\n",
      "   {\n",
      "    \"name\": \"#Dash4Cash\",\n",
      "    \"url\": \"http://twitter.com/search?q=%23Dash4Cash\",\n",
      "    \"promoted_content\": null,\n",
      "    \"query\": \"%23Dash4Cash\",\n",
      "    \"tweet_volume\": null\n",
      "   },\n",
      "   {\n",
      "    \"name\": \"#ORLvCOL\",\n",
      "    \"url\": \"http://twitter.com/search?q=%23ORLvCOL\",\n",
      "    \"promoted_content\": null,\n",
      "    \"query\": \"%23ORLvCOL\",\n",
      "    \"tweet_volume\": null\n",
      "   },\n",
      "   {\n",
      "    \"name\": \"#UselessScienceExperiments\",\n",
      "    \"url\": \"http://twitter.com/search?q=%23UselessScienceExperiments\",\n",
      "    \"promoted_content\": null,\n",
      "    \"query\": \"%23UselessScienceExperiments\",\n",
      "    \"tweet_volume\": null\n",
      "   },\n",
      "   {\n",
      "    \"name\": \"#saturdaymorning\",\n",
      "    \"url\": \"http://twitter.com/search?q=%23saturdaymorning\",\n",
      "    \"promoted_content\": null,\n",
      "    \"query\": \"%23saturdaymorning\",\n",
      "    \"tweet_volume\": 34534\n",
      "   },\n",
      "   {\n",
      "    \"name\": \"#DragCon\",\n",
      "    \"url\": \"http://twitter.com/search?q=%23DragCon\",\n",
      "    \"promoted_content\": null,\n",
      "    \"query\": \"%23DragCon\",\n",
      "    \"tweet_volume\": null\n",
      "   },\n",
      "   {\n",
      "    \"name\": \"#MTLvVAN\",\n",
      "    \"url\": \"http://twitter.com/search?q=%23MTLvVAN\",\n",
      "    \"promoted_content\": null,\n",
      "    \"query\": \"%23MTLvVAN\",\n",
      "    \"tweet_volume\": null\n",
      "   },\n",
      "   {\n",
      "    \"name\": \"#YALLWEST\",\n",
      "    \"url\": \"http://twitter.com/search?q=%23YALLWEST\",\n",
      "    \"promoted_content\": null,\n",
      "    \"query\": \"%23YALLWEST\",\n",
      "    \"tweet_volume\": null\n",
      "   },\n",
      "   {\n",
      "    \"name\": \"#ARUBIANCUMPF\",\n",
      "    \"url\": \"http://twitter.com/search?q=%23ARUBIANCUMPF\",\n",
      "    \"promoted_content\": null,\n",
      "    \"query\": \"%23ARUBIANCUMPF\",\n",
      "    \"tweet_volume\": 15337\n",
      "   }\n",
      "  ],\n",
      "  \"as_of\": \"2017-04-29T20:56:30Z\",\n",
      "  \"created_at\": \"2017-04-29T20:50:29Z\",\n",
      "  \"locations\": [\n",
      "   {\n",
      "    \"name\": \"United States\",\n",
      "    \"woeid\": 23424977\n",
      "   }\n",
      "  ]\n",
      " }\n",
      "]\n"
     ]
    }
   ],
   "source": [
    "import json\n",
    "\n",
    "print(json.dumps(world_trends, indent=1))\n",
    "print()\n",
    "print(json.dumps(us_trends, indent=1))"
   ]
  },
  {
   "cell_type": "markdown",
   "metadata": {
    "deletable": true,
    "editable": true
   },
   "source": [
    "## Example 4. Computing the intersection of two sets of trends"
   ]
  },
  {
   "cell_type": "code",
   "execution_count": 8,
   "metadata": {
    "collapsed": false,
    "deletable": true,
    "editable": true
   },
   "outputs": [
    {
     "name": "stdout",
     "output_type": "stream",
     "text": [
      "{'Xavier Woods', '#independentbookstoreday', 'Espanyol', '#JoshuaKlitchsko', '#RegretInYourTearsVIDEO', '#NotTheWHCD', 'Caleb Brantley', '#MTLvVAN', 'Mike Tyson', '#climatemarch'}\n"
     ]
    }
   ],
   "source": [
    "world_trends_set = set([trend['name'] \n",
    "                        for trend in world_trends[0]['trends']])\n",
    "\n",
    "us_trends_set = set([trend['name'] \n",
    "                     for trend in us_trends[0]['trends']]) \n",
    "\n",
    "common_trends = world_trends_set.intersection(us_trends_set)\n",
    "\n",
    "print(common_trends)"
   ]
  },
  {
   "cell_type": "markdown",
   "metadata": {
    "deletable": true,
    "editable": true
   },
   "source": [
    "## Example 5. Collecting search results"
   ]
  },
  {
   "cell_type": "code",
   "execution_count": 40,
   "metadata": {
    "collapsed": false,
    "deletable": true,
    "editable": true
   },
   "outputs": [
    {
     "name": "stdout",
     "output_type": "stream",
     "text": [
      "Length of statuses 1\n",
      "{\n",
      " \"created_at\": \"Fri Apr 28 08:35:29 +0000 2017\",\n",
      " \"id\": 857875907696111616,\n",
      " \"id_str\": \"857875907696111616\",\n",
      " \"text\": \"RT @AngelDrewSwag: #MentionSomeoneImportantForYou @Ama_Espinoza\\u2665 1 A\\u00f1o de amistad.Love You Pastelito\",\n",
      " \"truncated\": false,\n",
      " \"entities\": {\n",
      "  \"hashtags\": [\n",
      "   {\n",
      "    \"text\": \"MentionSomeoneImportantForYou\",\n",
      "    \"indices\": [\n",
      "     19,\n",
      "     49\n",
      "    ]\n",
      "   }\n",
      "  ],\n",
      "  \"symbols\": [],\n",
      "  \"user_mentions\": [\n",
      "   {\n",
      "    \"screen_name\": \"AngelDrewSwag\",\n",
      "    \"name\": \"Angel Beckman\",\n",
      "    \"id\": 637346549,\n",
      "    \"id_str\": \"637346549\",\n",
      "    \"indices\": [\n",
      "     3,\n",
      "     17\n",
      "    ]\n",
      "   }\n",
      "  ],\n",
      "  \"urls\": []\n",
      " },\n",
      " \"metadata\": {\n",
      "  \"iso_language_code\": \"es\",\n",
      "  \"result_type\": \"recent\"\n",
      " },\n",
      " \"source\": \"<a href=\\\"http://twitter.com\\\" rel=\\\"nofollow\\\">Twitter Web Client</a>\",\n",
      " \"in_reply_to_status_id\": null,\n",
      " \"in_reply_to_status_id_str\": null,\n",
      " \"in_reply_to_user_id\": null,\n",
      " \"in_reply_to_user_id_str\": null,\n",
      " \"in_reply_to_screen_name\": null,\n",
      " \"user\": {\n",
      "  \"id\": 849330014294331392,\n",
      "  \"id_str\": \"849330014294331392\",\n",
      "  \"name\": \"Rachel Baker\",\n",
      "  \"screen_name\": \"lSP3cskKADe8r5t\",\n",
      "  \"location\": \"\",\n",
      "  \"description\": \"\",\n",
      "  \"url\": null,\n",
      "  \"entities\": {\n",
      "   \"description\": {\n",
      "    \"urls\": []\n",
      "   }\n",
      "  },\n",
      "  \"protected\": false,\n",
      "  \"followers_count\": 1,\n",
      "  \"friends_count\": 37,\n",
      "  \"listed_count\": 0,\n",
      "  \"created_at\": \"Tue Apr 04 18:37:10 +0000 2017\",\n",
      "  \"favourites_count\": 181,\n",
      "  \"utc_offset\": null,\n",
      "  \"time_zone\": null,\n",
      "  \"geo_enabled\": false,\n",
      "  \"verified\": false,\n",
      "  \"statuses_count\": 194,\n",
      "  \"lang\": \"ru\",\n",
      "  \"contributors_enabled\": false,\n",
      "  \"is_translator\": false,\n",
      "  \"is_translation_enabled\": false,\n",
      "  \"profile_background_color\": \"F5F8FA\",\n",
      "  \"profile_background_image_url\": null,\n",
      "  \"profile_background_image_url_https\": null,\n",
      "  \"profile_background_tile\": false,\n",
      "  \"profile_image_url\": \"http://pbs.twimg.com/profile_images/856142775036915712/v2OzXY08_normal.jpg\",\n",
      "  \"profile_image_url_https\": \"https://pbs.twimg.com/profile_images/856142775036915712/v2OzXY08_normal.jpg\",\n",
      "  \"profile_link_color\": \"1DA1F2\",\n",
      "  \"profile_sidebar_border_color\": \"C0DEED\",\n",
      "  \"profile_sidebar_fill_color\": \"DDEEF6\",\n",
      "  \"profile_text_color\": \"333333\",\n",
      "  \"profile_use_background_image\": true,\n",
      "  \"has_extended_profile\": false,\n",
      "  \"default_profile\": true,\n",
      "  \"default_profile_image\": false,\n",
      "  \"following\": false,\n",
      "  \"follow_request_sent\": false,\n",
      "  \"notifications\": false,\n",
      "  \"translator_type\": \"none\"\n",
      " },\n",
      " \"geo\": null,\n",
      " \"coordinates\": null,\n",
      " \"place\": null,\n",
      " \"contributors\": null,\n",
      " \"retweeted_status\": {\n",
      "  \"created_at\": \"Thu Mar 28 02:53:39 +0000 2013\",\n",
      "  \"id\": 317107187136741376,\n",
      "  \"id_str\": \"317107187136741376\",\n",
      "  \"text\": \"#MentionSomeoneImportantForYou @Ama_Espinoza\\u2665 1 A\\u00f1o de amistad.Love You Pastelito\",\n",
      "  \"truncated\": false,\n",
      "  \"entities\": {\n",
      "   \"hashtags\": [\n",
      "    {\n",
      "     \"text\": \"MentionSomeoneImportantForYou\",\n",
      "     \"indices\": [\n",
      "      0,\n",
      "      30\n",
      "     ]\n",
      "    }\n",
      "   ],\n",
      "   \"symbols\": [],\n",
      "   \"user_mentions\": [],\n",
      "   \"urls\": []\n",
      "  },\n",
      "  \"metadata\": {\n",
      "   \"iso_language_code\": \"es\",\n",
      "   \"result_type\": \"recent\"\n",
      "  },\n",
      "  \"source\": \"<a href=\\\"http://twitter.com\\\" rel=\\\"nofollow\\\">Twitter Web Client</a>\",\n",
      "  \"in_reply_to_status_id\": null,\n",
      "  \"in_reply_to_status_id_str\": null,\n",
      "  \"in_reply_to_user_id\": null,\n",
      "  \"in_reply_to_user_id_str\": null,\n",
      "  \"in_reply_to_screen_name\": null,\n",
      "  \"user\": {\n",
      "   \"id\": 637346549,\n",
      "   \"id_str\": \"637346549\",\n",
      "   \"name\": \"Angel Beckman\",\n",
      "   \"screen_name\": \"AngelDrewSwag\",\n",
      "   \"location\": \"All Around The World\",\n",
      "   \"description\": \"#BELIEVE\",\n",
      "   \"url\": null,\n",
      "   \"entities\": {\n",
      "    \"description\": {\n",
      "     \"urls\": []\n",
      "    }\n",
      "   },\n",
      "   \"protected\": false,\n",
      "   \"followers_count\": 22007,\n",
      "   \"friends_count\": 7672,\n",
      "   \"listed_count\": 37,\n",
      "   \"created_at\": \"Mon Jul 16 22:47:43 +0000 2012\",\n",
      "   \"favourites_count\": 195,\n",
      "   \"utc_offset\": -36000,\n",
      "   \"time_zone\": \"Hawaii\",\n",
      "   \"geo_enabled\": true,\n",
      "   \"verified\": false,\n",
      "   \"statuses_count\": 7260,\n",
      "   \"lang\": \"es\",\n",
      "   \"contributors_enabled\": false,\n",
      "   \"is_translator\": false,\n",
      "   \"is_translation_enabled\": false,\n",
      "   \"profile_background_color\": \"000105\",\n",
      "   \"profile_background_image_url\": \"http://pbs.twimg.com/profile_background_images/444705377901219840/ZRmP34Tr.jpeg\",\n",
      "   \"profile_background_image_url_https\": \"https://pbs.twimg.com/profile_background_images/444705377901219840/ZRmP34Tr.jpeg\",\n",
      "   \"profile_background_tile\": false,\n",
      "   \"profile_image_url\": \"http://pbs.twimg.com/profile_images/834138669829210112/_Lq5i-hx_normal.jpg\",\n",
      "   \"profile_image_url_https\": \"https://pbs.twimg.com/profile_images/834138669829210112/_Lq5i-hx_normal.jpg\",\n",
      "   \"profile_banner_url\": \"https://pbs.twimg.com/profile_banners/637346549/1486781769\",\n",
      "   \"profile_link_color\": \"3B94D9\",\n",
      "   \"profile_sidebar_border_color\": \"000000\",\n",
      "   \"profile_sidebar_fill_color\": \"B3B0AC\",\n",
      "   \"profile_text_color\": \"A37991\",\n",
      "   \"profile_use_background_image\": true,\n",
      "   \"has_extended_profile\": true,\n",
      "   \"default_profile\": false,\n",
      "   \"default_profile_image\": false,\n",
      "   \"following\": false,\n",
      "   \"follow_request_sent\": false,\n",
      "   \"notifications\": false,\n",
      "   \"translator_type\": \"regular\"\n",
      "  },\n",
      "  \"geo\": null,\n",
      "  \"coordinates\": null,\n",
      "  \"place\": null,\n",
      "  \"contributors\": null,\n",
      "  \"is_quote_status\": false,\n",
      "  \"retweet_count\": 2,\n",
      "  \"favorite_count\": 4,\n",
      "  \"favorited\": false,\n",
      "  \"retweeted\": false,\n",
      "  \"lang\": \"es\"\n",
      " },\n",
      " \"is_quote_status\": false,\n",
      " \"retweet_count\": 2,\n",
      " \"favorite_count\": 0,\n",
      " \"favorited\": false,\n",
      " \"retweeted\": false,\n",
      " \"lang\": \"es\"\n",
      "}\n"
     ]
    }
   ],
   "source": [
    "# XXX: Set this variable to a trending topic, \n",
    "# or anything else for that matter. The example query below\n",
    "# was a trending topic when this content was being developed\n",
    "# and is used throughout the remainder of this chapter.\n",
    "\n",
    "q = '#MentionSomeoneImportantForYou' \n",
    "\n",
    "count = 100\n",
    "\n",
    "# Import unquote to prevent url encoding errors in next_results\n",
    "from urllib.parse import unquote\n",
    "\n",
    "# See https://dev.twitter.com/rest/reference/get/search/tweets\n",
    "\n",
    "search_results = twitter_api.search.tweets(q=q, count=count)\n",
    "\n",
    "statuses = search_results['statuses']\n",
    "\n",
    "\n",
    "# Iterate through 5 more batches of results by following the cursor\n",
    "for _ in range(5):\n",
    "    print('Length of statuses', len(statuses))\n",
    "    try:\n",
    "        next_results = search_results['search_metadata']['next_results']\n",
    "    except KeyError as e: # No more results when next_results doesn't exist\n",
    "        break\n",
    "        \n",
    "    # Create a dictionary from next_results, which has the following form:\n",
    "    # ?max_id=847960489447628799&q=%23RIPSelena&count=100&include_entities=1\n",
    "    kwargs = dict([ kv.split('=') for kv in unquote(next_results[1:]).split(\"&\") ])\n",
    "    \n",
    "    search_results = twitter_api.search.tweets(**kwargs)\n",
    "    statuses += search_results['statuses']\n",
    "\n",
    "# Show one sample search result by slicing the list...\n",
    "print(json.dumps(statuses[0], indent=1))"
   ]
  },
  {
   "cell_type": "markdown",
   "metadata": {
    "deletable": true,
    "editable": true
   },
   "source": [
    "Note: Should you desire to do so, you can load the same set of search results that are illustrated in the text of _Mining the Social Web_ by executing the code below that reads a snapshot of the data and stores it into the same statuses variable as was defined above. Alternatively, you can choose to skip execution of this cell in order to follow along with your own data."
   ]
  },
  {
   "cell_type": "code",
   "execution_count": 10,
   "metadata": {
    "collapsed": false,
    "deletable": true,
    "editable": true
   },
   "outputs": [
    {
     "name": "stdout",
     "output_type": "stream",
     "text": [
      "23\n",
      "{'contributors': None, 'truncated': False, 'text': '#MentionSomeoneImportantForYou God.', 'in_reply_to_status_id': None, 'id': 316944833233186816, 'favorite_count': 0, 'source': 'web', 'retweeted': False, 'coordinates': None, 'entities': {'user_mentions': [], 'hashtags': [{'indices': [0, 30], 'text': 'MentionSomeoneImportantForYou'}], 'urls': []}, 'in_reply_to_screen_name': None, 'in_reply_to_user_id': None, 'retweet_count': 23, 'id_str': '316944833233186816', 'favorited': False, 'user': {'follow_request_sent': None, 'profile_use_background_image': True, 'default_profile_image': False, 'id': 56259379, 'verified': False, 'profile_text_color': '3C3940', 'profile_image_url_https': 'https://si0.twimg.com/profile_images/3429999131/c22f74b56d0e0bf6350ceb00aae0aa0a_normal.jpeg', 'profile_sidebar_fill_color': '95E8EC', 'entities': {'url': {'urls': [{'url': 'http://t.co/yRX89YM4J0', 'indices': [0, 22], 'expanded_url': 'http://www.datpiff.com/mixtapes-detail.php?id=470069', 'display_url': 'datpiff.com/mixtapes-detai…'}]}, 'description': {'urls': []}}, 'followers_count': 105041, 'profile_sidebar_border_color': '000000', 'id_str': '56259379', 'profile_background_color': '000000', 'listed_count': 64, 'profile_background_image_url_https': 'https://si0.twimg.com/profile_background_images/824774581/a0c35bcecb5642e0e17c707372fc393e.jpeg', 'utc_offset': -18000, 'statuses_count': 16691, 'description': '#TheseAreTheWordsISaid LP', 'friends_count': 59615, 'location': '', 'profile_link_color': '91785A', 'profile_image_url': 'http://a0.twimg.com/profile_images/3429999131/c22f74b56d0e0bf6350ceb00aae0aa0a_normal.jpeg', 'following': None, 'geo_enabled': True, 'profile_banner_url': 'https://si0.twimg.com/profile_banners/56259379/1363388572', 'profile_background_image_url': 'http://a0.twimg.com/profile_background_images/824774581/a0c35bcecb5642e0e17c707372fc393e.jpeg', 'screen_name': 'hassanmusician', 'lang': 'en', 'profile_background_tile': False, 'favourites_count': 6142, 'name': 'Download the NEW LP!', 'notifications': None, 'url': 'http://t.co/yRX89YM4J0', 'created_at': 'Mon Jul 13 02:18:25 +0000 2009', 'contributors_enabled': False, 'time_zone': 'Eastern Time (US & Canada)', 'protected': False, 'default_profile': False, 'is_translator': False}, 'geo': None, 'in_reply_to_user_id_str': None, 'lang': 'en', 'created_at': 'Wed Mar 27 16:08:31 +0000 2013', 'in_reply_to_status_id_str': None, 'place': None, 'metadata': {'iso_language_code': 'en', 'result_type': 'recent'}}\n"
     ]
    }
   ],
   "source": [
    "import json\n",
    "statuses = json.loads(open('resources/ch01-twitter/data/MentionSomeoneImportantForYou.json').read())\n",
    "\n",
    "# The result of the list comprehension is a list with only one element that\n",
    "# can be accessed by its index and set to the variable t\n",
    "t = [ status \n",
    "      for status in statuses\n",
    "          if status['id'] == 316948241264549888 ][0]\n",
    "\n",
    "# Explore the variable t to get familiarized with the data structure...\n",
    "\n",
    "print(t['retweet_count'])\n",
    "print(t['retweeted_status'])\n",
    "\n",
    "# Can you find the most retweeted tweet in your search results? Try do do it!"
   ]
  },
  {
   "cell_type": "markdown",
   "metadata": {
    "deletable": true,
    "editable": true
   },
   "source": [
    "## Example 6. Extracting text, screen names, and hashtags from tweets"
   ]
  },
  {
   "cell_type": "code",
   "execution_count": 11,
   "metadata": {
    "collapsed": false,
    "deletable": true,
    "editable": true
   },
   "outputs": [
    {
     "name": "stdout",
     "output_type": "stream",
     "text": [
      "[\n",
      " \"\\u201c@KathleenMariee_: #MentionSomeOneImportantForYou @AhhlicksCruise , @itsravennn_cx ,@kandykisses_13 , @BMOLOGY\\u201d\\ud83d\\udc4d\",\n",
      " \"#MentionSomeoneImportantForYou My bf @Linkin_Sunrise.\",\n",
      " \"RT @hassanmusician: #MentionSomeoneImportantForYou God.\",\n",
      " \"#MentionSomeoneImportantForYou @Louis_Tomlinson\",\n",
      " \"#MentionSomeoneImportantForYou @Delta_Universe\"\n",
      "]\n",
      "[\n",
      " \"KathleenMariee_\",\n",
      " \"AhhlicksCruise\",\n",
      " \"itsravennn_cx\",\n",
      " \"kandykisses_13\",\n",
      " \"BMOLOGY\"\n",
      "]\n",
      "[\n",
      " \"MentionSomeOneImportantForYou\",\n",
      " \"MentionSomeoneImportantForYou\",\n",
      " \"MentionSomeoneImportantForYou\",\n",
      " \"MentionSomeoneImportantForYou\",\n",
      " \"MentionSomeoneImportantForYou\"\n",
      "]\n",
      "[\n",
      " \"\\u201c@KathleenMariee_:\",\n",
      " \"#MentionSomeOneImportantForYou\",\n",
      " \"@AhhlicksCruise\",\n",
      " \",\",\n",
      " \"@itsravennn_cx\"\n",
      "]\n"
     ]
    }
   ],
   "source": [
    "status_texts = [ status['text'] \n",
    "                 for status in statuses ]\n",
    "\n",
    "screen_names = [ user_mention['screen_name'] \n",
    "                 for status in statuses\n",
    "                     for user_mention in status['entities']['user_mentions'] ]\n",
    "\n",
    "hashtags = [ hashtag['text'] \n",
    "             for status in statuses\n",
    "                 for hashtag in status['entities']['hashtags'] ]\n",
    "\n",
    "# Compute a collection of all words from all tweets\n",
    "words = [ w \n",
    "          for t in status_texts \n",
    "              for w in t.split() ]\n",
    "\n",
    "# Explore the first 5 items for each...\n",
    "\n",
    "print(json.dumps(status_texts[0:5], indent=1))\n",
    "print(json.dumps(screen_names[0:5], indent=1) )\n",
    "print(json.dumps(hashtags[0:5], indent=1))\n",
    "print(json.dumps(words[0:5], indent=1))"
   ]
  },
  {
   "cell_type": "markdown",
   "metadata": {
    "deletable": true,
    "editable": true
   },
   "source": [
    "## Example 7. Creating a basic frequency distribution from the words in tweets"
   ]
  },
  {
   "cell_type": "code",
   "execution_count": 12,
   "metadata": {
    "collapsed": false,
    "deletable": true,
    "editable": true
   },
   "outputs": [
    {
     "name": "stdout",
     "output_type": "stream",
     "text": [
      "[('#MentionSomeoneImportantForYou', 92), ('RT', 34), ('my', 10), (',', 6), ('&lt;3', 6), ('@justinbieber', 6), ('My', 5), ('I', 4), ('and', 4), ('love', 3)]\n",
      "\n",
      "[('justinbieber', 6), ('Cavillafuerte', 2), ('Kid_Charliej', 2), ('KathleenMariee_', 1), ('AhhlicksCruise', 1), ('itsravennn_cx', 1), ('kandykisses_13', 1), ('BMOLOGY', 1), ('Linkin_Sunrise', 1), ('hassanmusician', 1)]\n",
      "\n",
      "[('MentionSomeoneImportantForYou', 94), ('mentionsomeoneimportantforyou', 3), ('MentionSomeOneImportantForYou', 1), ('NoHomo', 1), ('bebesito', 1), ('MyHeart', 1), ('Love', 1)]\n",
      "\n"
     ]
    }
   ],
   "source": [
    "from collections import Counter\n",
    "\n",
    "for item in [words, screen_names, hashtags]:\n",
    "    c = Counter(item)\n",
    "    print(c.most_common()[:10]) # top 10\n",
    "    print()"
   ]
  },
  {
   "cell_type": "markdown",
   "metadata": {
    "deletable": true,
    "editable": true
   },
   "source": [
    "## Example 8. Using prettytable to display tuples in a nice tabular format"
   ]
  },
  {
   "cell_type": "code",
   "execution_count": 13,
   "metadata": {
    "collapsed": false,
    "deletable": true,
    "editable": true
   },
   "outputs": [
    {
     "name": "stdout",
     "output_type": "stream",
     "text": [
      "+--------------------------------+-------+\n",
      "| Word                           | Count |\n",
      "+--------------------------------+-------+\n",
      "| #MentionSomeoneImportantForYou |    92 |\n",
      "| RT                             |    34 |\n",
      "| my                             |    10 |\n",
      "| ,                              |     6 |\n",
      "| &lt;3                          |     6 |\n",
      "| @justinbieber                  |     6 |\n",
      "| My                             |     5 |\n",
      "| I                              |     4 |\n",
      "| and                            |     4 |\n",
      "| love                           |     3 |\n",
      "+--------------------------------+-------+\n",
      "+-----------------+-------+\n",
      "| Screen Name     | Count |\n",
      "+-----------------+-------+\n",
      "| justinbieber    |     6 |\n",
      "| Cavillafuerte   |     2 |\n",
      "| Kid_Charliej    |     2 |\n",
      "| KathleenMariee_ |     1 |\n",
      "| AhhlicksCruise  |     1 |\n",
      "| itsravennn_cx   |     1 |\n",
      "| kandykisses_13  |     1 |\n",
      "| BMOLOGY         |     1 |\n",
      "| Linkin_Sunrise  |     1 |\n",
      "| hassanmusician  |     1 |\n",
      "+-----------------+-------+\n",
      "+-------------------------------+-------+\n",
      "| Hashtag                       | Count |\n",
      "+-------------------------------+-------+\n",
      "| MentionSomeoneImportantForYou |    94 |\n",
      "| mentionsomeoneimportantforyou |     3 |\n",
      "| MentionSomeOneImportantForYou |     1 |\n",
      "| NoHomo                        |     1 |\n",
      "| bebesito                      |     1 |\n",
      "| MyHeart                       |     1 |\n",
      "| Love                          |     1 |\n",
      "+-------------------------------+-------+\n"
     ]
    }
   ],
   "source": [
    "from prettytable import PrettyTable\n",
    "\n",
    "for label, data in (('Word', words), \n",
    "                    ('Screen Name', screen_names), \n",
    "                    ('Hashtag', hashtags)):\n",
    "    pt = PrettyTable(field_names=[label, 'Count']) \n",
    "    c = Counter(data)\n",
    "    [ pt.add_row(kv) for kv in c.most_common()[:10] ]\n",
    "    pt.align[label], pt.align['Count'] = 'l', 'r' # Set column alignment\n",
    "    print(pt)"
   ]
  },
  {
   "cell_type": "markdown",
   "metadata": {
    "deletable": true,
    "editable": true
   },
   "source": [
    "## Example 9. Calculating lexical diversity for tweets"
   ]
  },
  {
   "cell_type": "code",
   "execution_count": 14,
   "metadata": {
    "collapsed": false,
    "deletable": true,
    "editable": true
   },
   "outputs": [
    {
     "name": "stdout",
     "output_type": "stream",
     "text": [
      "0.6761061946902654\n",
      "0.9554140127388535\n",
      "0.06862745098039216\n",
      "5.76530612244898\n"
     ]
    }
   ],
   "source": [
    "# A function for computing lexical diversity\n",
    "def lexical_diversity(tokens):\n",
    "    return len(set(tokens))/len(tokens) \n",
    "\n",
    "# A function for computing the average number of words per tweet\n",
    "def average_words(statuses):\n",
    "    total_words = sum([ len(s.split()) for s in statuses ]) \n",
    "    return total_words/len(statuses)\n",
    "\n",
    "print(lexical_diversity(words))\n",
    "print(lexical_diversity(screen_names))\n",
    "print(lexical_diversity(hashtags))\n",
    "print(average_words(status_texts))"
   ]
  },
  {
   "cell_type": "markdown",
   "metadata": {
    "deletable": true,
    "editable": true
   },
   "source": [
    "## Example 10. Finding the most popular retweets"
   ]
  },
  {
   "cell_type": "code",
   "execution_count": 15,
   "metadata": {
    "collapsed": false,
    "deletable": true,
    "editable": true
   },
   "outputs": [
    {
     "name": "stdout",
     "output_type": "stream",
     "text": [
      "+-------+----------------+----------------------------------------------------+\n",
      "| Count | Screen Name    | Text                                               |\n",
      "+-------+----------------+----------------------------------------------------+\n",
      "| 23    | hassanmusician | RT @hassanmusician: #MentionSomeoneImportantForYou |\n",
      "|       |                | God.                                               |\n",
      "| 21    | HSweethearts   | RT @HSweethearts: #MentionSomeoneImportantForYou   |\n",
      "|       |                | my high school sweetheart ❤💋                       |\n",
      "| 15    | LosAlejandro_  | RT @LosAlejandro_: ¿Nadie te menciono en           |\n",
      "|       |                | \"#MentionSomeoneImportantForYou\"? JAJAJAJAJAJAJAJA |\n",
      "|       |                | JAJAJAJAJAJAJAJAJAJAJAJAJAJAJAJAJAJAJAJA Ven, ...  |\n",
      "| 9     | SCOTTSUMME     | RT @SCOTTSUMME: #MentionSomeoneImportantForYou My  |\n",
      "|       |                | Mum. Shes loving, caring, strong, all in one. I    |\n",
      "|       |                | love her so much ❤❤❤❤                              |\n",
      "| 7     | degrassihaha   | RT @degrassihaha: #MentionSomeoneImportantForYou I |\n",
      "|       |                | can't put every Degrassi cast member, crew member, |\n",
      "|       |                | and writer in just one tweet....                   |\n",
      "+-------+----------------+----------------------------------------------------+\n"
     ]
    }
   ],
   "source": [
    "retweets = [\n",
    "            # Store out a tuple of these three values ...\n",
    "            (status['retweet_count'], \n",
    "             status['retweeted_status']['user']['screen_name'],\n",
    "             status['text']) \n",
    "            \n",
    "            # ... for each status ...\n",
    "            for status in statuses \n",
    "            \n",
    "            # ... so long as the status meets this condition.\n",
    "                if 'retweeted_status' in status.keys()\n",
    "           ]\n",
    "\n",
    "# Slice off the first 5 from the sorted results and display each item in the tuple\n",
    "\n",
    "pt = PrettyTable(field_names=['Count', 'Screen Name', 'Text'])\n",
    "[ pt.add_row(row) for row in sorted(retweets, reverse=True)[:5] ]\n",
    "pt.max_width['Text'] = 50\n",
    "pt.align= 'l'\n",
    "print(pt)"
   ]
  },
  {
   "cell_type": "markdown",
   "metadata": {
    "deletable": true,
    "editable": true
   },
   "source": [
    "## Example 11. Looking up users who have retweeted a status"
   ]
  },
  {
   "cell_type": "code",
   "execution_count": 16,
   "metadata": {
    "collapsed": false,
    "deletable": true,
    "editable": true
   },
   "outputs": [
    {
     "name": "stdout",
     "output_type": "stream",
     "text": [
      "['allorganicthing', 'blackerdonald', 'exclusivesou312', 'CityOfcom', 'LopezPaulosh', 'zenonbreezy32', 'bigdaddyrew1963', 'john_siracusa', 'QueenDynastyCEO', 'starcominf', 'clarryacosta', 'diannesullivan', 'frankiew5657', 'massfractal', 'cinhornsays1', 'SorgDodge', 'tioderiquar1977', 'LadyBizHasAPlan', 'YellMarcell']\n"
     ]
    }
   ],
   "source": [
    "# Get the original tweet id for a tweet from its retweeted_status node \n",
    "# and insert it here in place of the sample value that is provided\n",
    "# from the text of the book\n",
    "\n",
    "_retweets = twitter_api.statuses.retweets(id=838884558992982017)\n",
    "print([r['user']['screen_name'] for r in _retweets])"
   ]
  },
  {
   "cell_type": "markdown",
   "metadata": {
    "deletable": true,
    "editable": true
   },
   "source": [
    "## Example 12. Plotting frequencies of words"
   ]
  },
  {
   "cell_type": "code",
   "execution_count": 17,
   "metadata": {
    "collapsed": false,
    "deletable": true,
    "editable": true
   },
   "outputs": [
    {
     "data": {
      "text/plain": [
       "<matplotlib.text.Text at 0x10f648f28>"
      ]
     },
     "execution_count": 17,
     "metadata": {},
     "output_type": "execute_result"
    },
    {
     "data": {
      "image/png": "[encoded data removed]",
      "text/plain": [
       "<matplotlib.figure.Figure at 0x10a3cce48>"
      ]
     },
     "metadata": {},
     "output_type": "display_data"
    }
   ],
   "source": [
    "import matplotlib.pyplot as plt\n",
    "%matplotlib inline\n",
    "word_counts = sorted(Counter(words).values(), reverse=True)\n",
    "\n",
    "plt.loglog(word_counts)\n",
    "plt.ylabel(\"Freq\")\n",
    "plt.xlabel(\"Word Rank\")"
   ]
  },
  {
   "cell_type": "markdown",
   "metadata": {
    "deletable": true,
    "editable": true
   },
   "source": [
    "## Example 13. Generating histograms of words, screen names, and hashtags"
   ]
  },
  {
   "cell_type": "code",
   "execution_count": 18,
   "metadata": {
    "collapsed": false,
    "deletable": true,
    "editable": true
   },
   "outputs": [
    {
     "data": {
      "image/png": "[encoded data removed]",
      "text/plain": [
       "<matplotlib.figure.Figure at 0x108de5198>"
      ]
     },
     "metadata": {},
     "output_type": "display_data"
    },
    {
     "data": {
      "image/png": "[encoded data removed]",
      "text/plain": [
       "<matplotlib.figure.Figure at 0x112d5bac8>"
      ]
     },
     "metadata": {},
     "output_type": "display_data"
    },
    {
     "data": {
      "image/png": "[encoded data removed]",
      "text/plain": [
       "<matplotlib.figure.Figure at 0x112ed0c18>"
      ]
     },
     "metadata": {},
     "output_type": "display_data"
    },
    {
     "data": {
      "text/plain": [
       "<matplotlib.figure.Figure at 0x112f4f198>"
      ]
     },
     "metadata": {},
     "output_type": "display_data"
    }
   ],
   "source": [
    "for label, data in (('Words', words), \n",
    "                    ('Screen Names', screen_names), \n",
    "                    ('Hashtags', hashtags)):\n",
    "\n",
    "    # Build a frequency map for each set of data\n",
    "    # and plot the values\n",
    "    c = Counter(data)\n",
    "    plt.hist(list(c.values()))\n",
    "    \n",
    "    # Add a title and y-label ...\n",
    "    plt.title(label)\n",
    "    plt.ylabel(\"Number of items in bin\")\n",
    "    plt.xlabel(\"Bins (number of times an item appeared)\")\n",
    "    \n",
    "    # ... and display as a new figure\n",
    "    plt.figure()"
   ]
  },
  {
   "cell_type": "markdown",
   "metadata": {
    "deletable": true,
    "editable": true
   },
   "source": [
    "## Example 14. Generating a histogram of retweet counts"
   ]
  },
  {
   "cell_type": "code",
   "execution_count": 19,
   "metadata": {
    "collapsed": false,
    "deletable": true,
    "editable": true
   },
   "outputs": [
    {
     "name": "stdout",
     "output_type": "stream",
     "text": [
      "[23, 1, 21, 1, 5, 2, 2, 2, 3, 1, 1, 1, 1, 9, 1, 1, 1, 15, 1, 1, 1, 2, 1, 1, 7, 6, 1, 3, 1, 1, 1, 1, 1]\n"
     ]
    },
    {
     "data": {
      "image/png": "[encoded data removed]",
      "text/plain": [
       "<matplotlib.figure.Figure at 0x112a84b38>"
      ]
     },
     "metadata": {},
     "output_type": "display_data"
    }
   ],
   "source": [
    "# Using underscores while unpacking values in\n",
    "# a tuple is idiomatic for discarding them\n",
    "\n",
    "counts = [count for count, _, _ in retweets]\n",
    "\n",
    "plt.hist(counts)\n",
    "plt.title('Retweets')\n",
    "plt.xlabel('Bins (number of times retweeted)')\n",
    "plt.ylabel('Number of tweets in bin')\n",
    "\n",
    "print(counts)"
   ]
  },
  {
   "cell_type": "markdown",
   "metadata": {
    "deletable": true,
    "editable": true
   },
   "source": [
    "Note: This histogram gives you an idea of how many times tweets are retweeted with the x-axis defining partitions for tweets that have been retweeted some number of times and the y-axis telling you how many tweets fell into each bin. For example, a y-axis value of 5 for the \"15-20 bin\" on the x-axis means that there were 5 tweets that were retweeted between 15 and 20 times.\n",
    "\n",
    "Here's another variation that transforms the data using the log function from NumPy in order to improve the resolution of the plot."
   ]
  },
  {
   "cell_type": "code",
   "execution_count": 20,
   "metadata": {
    "collapsed": false,
    "deletable": true,
    "editable": true
   },
   "outputs": [
    {
     "name": "stdout",
     "output_type": "stream",
     "text": [
      "[ 1.36172784  0.          1.32221929  0.          0.69897     0.30103\n",
      "  0.30103     0.30103     0.47712125  0.          0.          0.          0.\n",
      "  0.95424251  0.          0.          0.          1.17609126  0.          0.\n",
      "  0.          0.30103     0.          0.          0.84509804  0.77815125\n",
      "  0.          0.47712125  0.          0.          0.          0.          0.        ]\n"
     ]
    },
    {
     "data": {
      "image/png": "[encoded data removed]",
      "text/plain": [
       "<matplotlib.figure.Figure at 0x112f03a58>"
      ]
     },
     "metadata": {},
     "output_type": "display_data"
    }
   ],
   "source": [
    "import numpy as np\n",
    "\n",
    "# Using underscores while unpacking values in\n",
    "# a tuple is idiomatic for discarding them\n",
    "\n",
    "counts = [count for count, _, _ in retweets]\n",
    "\n",
    "# Taking the log of the *data values* themselves can \n",
    "# often provide quick and valuable insight into the\n",
    "# underlying distribution as well. Try it back on\n",
    "# Example 13 and see if it helps.\n",
    "\n",
    "plt.hist(np.log10(counts))\n",
    "plt.title('Retweets')\n",
    "plt.xlabel('Log[Bins (number of times retweeted)]')\n",
    "plt.ylabel('Log[Number of tweets in bin]')\n",
    "\n",
    "print(np.log10(counts))"
   ]
  },
  {
   "cell_type": "markdown",
   "metadata": {
    "collapsed": true,
    "deletable": true,
    "editable": true
   },
   "source": [
    "## (New!) Example 15. Sentiment Analysis"
   ]
  },
  {
   "cell_type": "code",
   "execution_count": 113,
   "metadata": {
    "collapsed": false,
    "deletable": true,
    "editable": true
   },
   "outputs": [
    {
     "name": "stdout",
     "output_type": "stream",
     "text": [
      "[nltk_data] Downloading package vader_lexicon to\n",
      "[nltk_data]     /Users/mikhail/nltk_data...\n",
      "[nltk_data]   Package vader_lexicon is already up-to-date!\n"
     ]
    }
   ],
   "source": [
    "# pip install nltk\n",
    "import nltk\n",
    "nltk.download('vader_lexicon')\n",
    "\n",
    "from nltk.sentiment.vader import SentimentIntensityAnalyzer"
   ]
  },
  {
   "cell_type": "code",
   "execution_count": 100,
   "metadata": {
    "collapsed": true,
    "deletable": true,
    "editable": true
   },
   "outputs": [],
   "source": [
    "twitter_stream = twitter.TwitterStream(auth=auth)\n",
    "iterator = twitter_stream.statuses.sample()"
   ]
  },
  {
   "cell_type": "code",
   "execution_count": 101,
   "metadata": {
    "collapsed": false,
    "deletable": true,
    "editable": true
   },
   "outputs": [],
   "source": [
    "tweets = []\n",
    "for tweet in iterator:\n",
    "    try:\n",
    "        if tweet['lang'] == 'en':\n",
    "            tweets.append(tweet)\n",
    "    except:\n",
    "        pass\n",
    "    if len(tweets) == 100:\n",
    "        break"
   ]
  },
  {
   "cell_type": "code",
   "execution_count": 105,
   "metadata": {
    "collapsed": false,
    "deletable": true,
    "editable": true
   },
   "outputs": [],
   "source": [
    "analyzer = SentimentIntensityAnalyzer()\n",
    "\n",
    "scores = np.zeros(len(tweets))\n",
    "\n",
    "for i, t in enumerate(tweets):\n",
    "    # Extract the text portion of the tweet\n",
    "    text = t['text']\n",
    "    \n",
    "    # Measure the polarity of the tweet\n",
    "    polarity = analyzer.polarity_scores(text)\n",
    "    \n",
    "    # Store the normalized, weighted composite score\n",
    "    scores[i] = polarity['compound']"
   ]
  },
  {
   "cell_type": "code",
   "execution_count": 116,
   "metadata": {
    "collapsed": false,
    "deletable": true,
    "editable": true
   },
   "outputs": [
    {
     "name": "stdout",
     "output_type": "stream",
     "text": [
      " 0.913 : \"you're one of my favorite taeyong stans honestly — this is so sweet thank uso much https://t.co/2GK9n9ylfr\"\n",
      "-0.858 : \"RT @williamlegate: @brianwilson231 @FoxNews No it didn't lmao\n",
      "\n",
      "***cue chants of \"FAKE NEWS!\"*** https://t.co/2LAQDJNbNx\"\n"
     ]
    }
   ],
   "source": [
    "most_positive = np.argmax(scores)\n",
    "most_negative = np.argmin(scores)\n",
    "\n",
    "print('{0:6.3f} : \"{1}\"'.format(scores[most_positive], tweets[most_positive]['text']))\n",
    "print('{0:6.3f} : \"{1}\"'.format(scores[most_negative], tweets[most_negative]['text']))"
   ]
  }
 ],
 "metadata": {
  "kernelspec": {
   "display_name": "mtsw",
   "language": "python",
   "name": "mtsw"
  },
  "language_info": {
   "codemirror_mode": {
    "name": "ipython",
    "version": 3
   },
   "file_extension": ".py",
   "mimetype": "text/x-python",
   "name": "python",
   "nbconvert_exporter": "python",
   "pygments_lexer": "ipython3",
   "version": "3.6.0"
  }
 },
 "nbformat": 4,
 "nbformat_minor": 0
}
